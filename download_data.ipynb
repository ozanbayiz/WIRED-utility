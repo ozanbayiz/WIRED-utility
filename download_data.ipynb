{
 "cells": [
  {
   "cell_type": "code",
   "execution_count": 41,
   "id": "02e16f27-0b04-46f8-8d96-72d051c52f1c",
   "metadata": {},
   "outputs": [],
   "source": [
    "import requests\n",
    "import os\n",
    "import json\n",
    "import getpass\n",
    "import tarfile\n",
    "from urllib.request import urlretrieve"
   ]
  },
  {
   "cell_type": "code",
   "execution_count": 2,
   "id": "f26922f9-a92b-4632-a6f9-80de27c069e6",
   "metadata": {},
   "outputs": [
    {
     "name": "stdin",
     "output_type": "stream",
     "text": [
      " ········\n"
     ]
    }
   ],
   "source": [
    "host = 'https://espa.cr.usgs.gov/api/v1/'\n",
    "username = 'ozanbayiz'\n",
    "password = getpass.getpass()"
   ]
  },
  {
   "cell_type": "code",
   "execution_count": 46,
   "id": "5d0b00fd-9a43-461b-a3a4-ec9de3fda759",
   "metadata": {},
   "outputs": [],
   "source": [
    "def espa_api(endpoint, verb='get', body=None, uauth=None):\n",
    "    \"\"\" Suggested simple way to interact with the ESPA JSON REST API \"\"\"\n",
    "    auth_tup = uauth if uauth else (username, password)\n",
    "    response = getattr(requests, verb)(host + endpoint, auth=auth_tup, json=body)\n",
    "    print('{} {}'.format(response.status_code, response.reason))\n",
    "    data = response.json()\n",
    "    if isinstance(data, dict):\n",
    "        messages = data.pop(\"messages\", None)  \n",
    "        if messages:\n",
    "            print((json.dumps(messages, indent=4)))\n",
    "    try:\n",
    "        response.raise_for_status()\n",
    "    except Exception as e:\n",
    "        print(e)\n",
    "        return None\n",
    "    else:\n",
    "        return data\n",
    "        \n",
    "def create_order(day, month, year):\n",
    "    #specify date as date range strings\n",
    "    start_date = \"20240602\"\n",
    "    end_date = \"20240603\"\n",
    "    #create list of productIDs with date range strings\n",
    "    ls = [\"LC09_L2SP_043031_{}_{}_02_T1\".format(start_date, end_date),\n",
    "          \"LC09_L2SP_043032_{}_{}_02_T1\".format(start_date, end_date),\n",
    "          \"LC09_L2SP_043033_{}_{}_02_T1\".format(start_date, end_date),\n",
    "          \"LC09_L2SP_043034_{}_{}_02_T1\".format(start_date, end_date),\n",
    "          \"LC09_L2SP_043035_{}_{}_02_T1\".format(start_date, end_date),\n",
    "          \"LC09_L2SP_043036_{}_{}_02_T1\".format(start_date, end_date)]\n",
    "    #desired prodcuct: Normalized Burn Ratio (NBR)\n",
    "    prod = [\"sr_nbr\"]\n",
    "    order = espa_api('available-products', body=dict(inputs=ls))\n",
    "    #not sure what this does\n",
    "    print((json.dumps(order, indent=4)))\n",
    "    projection = {'aea': {'standard_parallel_1': 29.5,\n",
    "                  'standard_parallel_2': 45.5,\n",
    "                  'central_meridian': -96.0,\n",
    "                  'latitude_of_origin': 23.0,\n",
    "                  'false_easting': 0,\n",
    "                  'false_northing': 0,\n",
    "                  'datum': 'nad83'}}\n",
    "    #populate order dict with desired products\n",
    "    for sensor in order.keys():   \n",
    "        if isinstance(order[sensor], dict) and order[sensor].get('inputs'):\n",
    "            if set(ls) & set(order[sensor]['inputs']):\n",
    "                order[sensor]['products'] = prod\n",
    "    #populate other fields of order dict  \n",
    "    order['projection'] = projection\n",
    "    order['format'] = 'gtiff'\n",
    "    order['resampling_method'] = 'cc'\n",
    "    #see order\n",
    "    print((json.dumps(order, indent=4)))\n",
    "    return order\n",
    "    \n",
    "def place_order(order):\n",
    "    #place order\n",
    "    print('POST /api/v1/order')\n",
    "    resp = espa_api('order', verb='post', body=order)\n",
    "    print((json.dumps(resp, indent=4)))\n",
    "    return resp\n",
    "\n",
    "def check_order_status(orderid):\n",
    "    print(('GET /api/v1/order-status/{}'.format(orderid)))\n",
    "    resp = espa_api('order-status/{}'.format(orderid))\n",
    "    print((json.dumps(resp, indent=4)))\n",
    "\n",
    "def get_order_urls(orderid):\n",
    "#    orderid = resp['orderid']\n",
    "    #check status of order\n",
    "    check_order_status(orderid)\n",
    "    #check for completed products\n",
    "    print(('GET /api/v1/item-status/{0}'.format(orderid)))\n",
    "    resp = espa_api('item-status/{0}'.format(orderid), body={'status': 'complete'})\n",
    "    #print((json.dumps(resp[orderid], indent=4)))\n",
    "    #get download URLS\n",
    "    urls = [item.get('product_dload_url') for item in resp[orderid]]\n",
    "    for item in resp[orderid]:\n",
    "        print((\"URL: {0}\".format(item.get('product_dload_url'))))\n",
    "    return urls\n",
    "\n",
    "def get_backlogs():\n",
    "    #list backlog orders for authenticated user\n",
    "    print('GET /api/v1/list-orders')\n",
    "    filters = {\"status\": [\"complete\", \"ordered\"]}\n",
    "    resp = espa_api('list-orders', body=filters)\n",
    "    #print((json.dumps(resp, indent=4)))\n",
    "    return resp\n",
    "\n",
    "def download_from_urls(urls, orderid):\n",
    "    path = \"../data/{}\".format(orderid)\n",
    "    os.mkdir(path)\n",
    "    for url in urls:\n",
    "        print(\"downloading from {}...\".format(url))\n",
    "        file_name = url.split('/')[-1]\n",
    "        full_file_name = path + file_name\n",
    "        urlretrieve(url, full_file_name)"
   ]
  },
  {
   "cell_type": "code",
   "execution_count": 23,
   "id": "71f511ac-8c82-4397-ad38-a40c7a820e27",
   "metadata": {
    "scrolled": true
   },
   "outputs": [
    {
     "name": "stdout",
     "output_type": "stream",
     "text": [
      "200 OK\n",
      "{\n",
      "    \"olitirs9_collection_2_l2\": {\n",
      "        \"products\": [\n",
      "            \"l1\",\n",
      "            \"sr_ndvi\",\n",
      "            \"sr_evi\",\n",
      "            \"sr_savi\",\n",
      "            \"sr_msavi\",\n",
      "            \"sr_ndmi\",\n",
      "            \"sr_nbr\",\n",
      "            \"sr_nbr2\",\n",
      "            \"sr_ndsi\",\n",
      "            \"et\"\n",
      "        ],\n",
      "        \"inputs\": [\n",
      "            \"LC09_L2SP_043031_20240602_20240603_02_T1\",\n",
      "            \"LC09_L2SP_043032_20240602_20240603_02_T1\",\n",
      "            \"LC09_L2SP_043033_20240602_20240603_02_T1\",\n",
      "            \"LC09_L2SP_043034_20240602_20240603_02_T1\",\n",
      "            \"LC09_L2SP_043035_20240602_20240603_02_T1\",\n",
      "            \"LC09_L2SP_043036_20240602_20240603_02_T1\"\n",
      "        ]\n",
      "    }\n",
      "}\n",
      "{\n",
      "    \"olitirs9_collection_2_l2\": {\n",
      "        \"products\": [\n",
      "            \"sr_nbr\"\n",
      "        ],\n",
      "        \"inputs\": [\n",
      "            \"LC09_L2SP_043031_20240602_20240603_02_T1\",\n",
      "            \"LC09_L2SP_043032_20240602_20240603_02_T1\",\n",
      "            \"LC09_L2SP_043033_20240602_20240603_02_T1\",\n",
      "            \"LC09_L2SP_043034_20240602_20240603_02_T1\",\n",
      "            \"LC09_L2SP_043035_20240602_20240603_02_T1\",\n",
      "            \"LC09_L2SP_043036_20240602_20240603_02_T1\"\n",
      "        ]\n",
      "    },\n",
      "    \"projection\": {\n",
      "        \"aea\": {\n",
      "            \"standard_parallel_1\": 29.5,\n",
      "            \"standard_parallel_2\": 45.5,\n",
      "            \"central_meridian\": -96.0,\n",
      "            \"latitude_of_origin\": 23.0,\n",
      "            \"false_easting\": 0,\n",
      "            \"false_northing\": 0,\n",
      "            \"datum\": \"nad83\"\n",
      "        }\n",
      "    },\n",
      "    \"format\": \"gtiff\",\n",
      "    \"resampling_method\": \"cc\"\n",
      "}\n"
     ]
    }
   ],
   "source": [
    "order = create_order(1,2,3)"
   ]
  },
  {
   "cell_type": "code",
   "execution_count": 47,
   "id": "4ba9fd1b-2870-49c5-940a-6479d09dc34c",
   "metadata": {},
   "outputs": [
    {
     "data": {
      "text/plain": [
       "{'olitirs9_collection_2_l2': {'products': ['sr_nbr'],\n",
       "  'inputs': ['LC09_L2SP_043031_20240602_20240603_02_T1',\n",
       "   'LC09_L2SP_043032_20240602_20240603_02_T1',\n",
       "   'LC09_L2SP_043033_20240602_20240603_02_T1',\n",
       "   'LC09_L2SP_043034_20240602_20240603_02_T1',\n",
       "   'LC09_L2SP_043035_20240602_20240603_02_T1',\n",
       "   'LC09_L2SP_043036_20240602_20240603_02_T1']},\n",
       " 'projection': {'aea': {'standard_parallel_1': 29.5,\n",
       "   'standard_parallel_2': 45.5,\n",
       "   'central_meridian': -96.0,\n",
       "   'latitude_of_origin': 23.0,\n",
       "   'false_easting': 0,\n",
       "   'false_northing': 0,\n",
       "   'datum': 'nad83'}},\n",
       " 'format': 'gtiff',\n",
       " 'resampling_method': 'cc'}"
      ]
     },
     "execution_count": 47,
     "metadata": {},
     "output_type": "execute_result"
    }
   ],
   "source": [
    "order"
   ]
  },
  {
   "cell_type": "code",
   "execution_count": 48,
   "id": "546d70da-1d50-4c34-9ba6-039c60c0af9e",
   "metadata": {},
   "outputs": [
    {
     "name": "stdout",
     "output_type": "stream",
     "text": [
      "POST /api/v1/order\n",
      "201 CREATED\n",
      "{\n",
      "    \"orderid\": \"espa-ozanbayiz@berkeley.edu-06052024-211910-614\",\n",
      "    \"status\": \"ordered\"\n",
      "}\n"
     ]
    }
   ],
   "source": [
    "resp = place_order(order)"
   ]
  },
  {
   "cell_type": "code",
   "execution_count": 49,
   "id": "81c978fb-3112-484d-8608-6c9268c9700a",
   "metadata": {},
   "outputs": [
    {
     "name": "stdout",
     "output_type": "stream",
     "text": [
      "GET /api/v1/order-status/espa-ozanbayiz@berkeley.edu-06052024-211910-614\n",
      "200 OK\n",
      "{\n",
      "    \"orderid\": \"espa-ozanbayiz@berkeley.edu-06052024-211910-614\",\n",
      "    \"status\": \"ordered\"\n",
      "}\n",
      "GET /api/v1/item-status/espa-ozanbayiz@berkeley.edu-06052024-211910-614\n",
      "200 OK\n"
     ]
    },
    {
     "data": {
      "text/plain": [
       "[]"
      ]
     },
     "execution_count": 49,
     "metadata": {},
     "output_type": "execute_result"
    }
   ],
   "source": [
    "orderid = resp['orderid']\n",
    "urls = get_order_urls(orderid)\n",
    "urls"
   ]
  },
  {
   "cell_type": "code",
   "execution_count": 45,
   "id": "14971bf6-b4b3-47eb-8269-c6a616508eed",
   "metadata": {},
   "outputs": [
    {
     "name": "stdout",
     "output_type": "stream",
     "text": [
      "downloading from https://edclpdsftp.cr.usgs.gov/orders/espa-ozanbayiz@berkeley.edu-06052024-205810-115/LC090430342024060202T1-SC20240606015913.tar.gz...\n",
      "downloading from https://edclpdsftp.cr.usgs.gov/orders/espa-ozanbayiz@berkeley.edu-06052024-205810-115/LC090430322024060202T1-SC20240606015913.tar.gz...\n"
     ]
    },
    {
     "ename": "HTTPError",
     "evalue": "HTTP Error 404: Not Found",
     "output_type": "error",
     "traceback": [
      "\u001b[0;31m---------------------------------------------------------------------------\u001b[0m",
      "\u001b[0;31mHTTPError\u001b[0m                                 Traceback (most recent call last)",
      "Cell \u001b[0;32mIn[45], line 1\u001b[0m\n\u001b[0;32m----> 1\u001b[0m \u001b[43mdownload_from_urls\u001b[49m\u001b[43m(\u001b[49m\u001b[43murls\u001b[49m\u001b[43m,\u001b[49m\u001b[43m \u001b[49m\u001b[43morderid\u001b[49m\u001b[43m)\u001b[49m\n",
      "Cell \u001b[0;32mIn[44], line 93\u001b[0m, in \u001b[0;36mdownload_from_urls\u001b[0;34m(urls, orderid)\u001b[0m\n\u001b[1;32m     91\u001b[0m file_name \u001b[38;5;241m=\u001b[39m url\u001b[38;5;241m.\u001b[39msplit(\u001b[38;5;124m'\u001b[39m\u001b[38;5;124m/\u001b[39m\u001b[38;5;124m'\u001b[39m)[\u001b[38;5;241m-\u001b[39m\u001b[38;5;241m1\u001b[39m]\n\u001b[1;32m     92\u001b[0m full_file_name \u001b[38;5;241m=\u001b[39m path \u001b[38;5;241m+\u001b[39m file_name\n\u001b[0;32m---> 93\u001b[0m \u001b[43murlretrieve\u001b[49m\u001b[43m(\u001b[49m\u001b[43murl\u001b[49m\u001b[43m,\u001b[49m\u001b[43m \u001b[49m\u001b[43mfull_file_name\u001b[49m\u001b[43m)\u001b[49m\n",
      "File \u001b[0;32m/opt/conda/lib/python3.11/urllib/request.py:241\u001b[0m, in \u001b[0;36murlretrieve\u001b[0;34m(url, filename, reporthook, data)\u001b[0m\n\u001b[1;32m    224\u001b[0m \u001b[38;5;250m\u001b[39m\u001b[38;5;124;03m\"\"\"\u001b[39;00m\n\u001b[1;32m    225\u001b[0m \u001b[38;5;124;03mRetrieve a URL into a temporary location on disk.\u001b[39;00m\n\u001b[1;32m    226\u001b[0m \n\u001b[0;32m   (...)\u001b[0m\n\u001b[1;32m    237\u001b[0m \u001b[38;5;124;03mdata file as well as the resulting HTTPMessage object.\u001b[39;00m\n\u001b[1;32m    238\u001b[0m \u001b[38;5;124;03m\"\"\"\u001b[39;00m\n\u001b[1;32m    239\u001b[0m url_type, path \u001b[38;5;241m=\u001b[39m _splittype(url)\n\u001b[0;32m--> 241\u001b[0m \u001b[38;5;28;01mwith\u001b[39;00m contextlib\u001b[38;5;241m.\u001b[39mclosing(\u001b[43murlopen\u001b[49m\u001b[43m(\u001b[49m\u001b[43murl\u001b[49m\u001b[43m,\u001b[49m\u001b[43m \u001b[49m\u001b[43mdata\u001b[49m\u001b[43m)\u001b[49m) \u001b[38;5;28;01mas\u001b[39;00m fp:\n\u001b[1;32m    242\u001b[0m     headers \u001b[38;5;241m=\u001b[39m fp\u001b[38;5;241m.\u001b[39minfo()\n\u001b[1;32m    244\u001b[0m     \u001b[38;5;66;03m# Just return the local path and the \"headers\" for file://\u001b[39;00m\n\u001b[1;32m    245\u001b[0m     \u001b[38;5;66;03m# URLs. No sense in performing a copy unless requested.\u001b[39;00m\n",
      "File \u001b[0;32m/opt/conda/lib/python3.11/urllib/request.py:216\u001b[0m, in \u001b[0;36murlopen\u001b[0;34m(url, data, timeout, cafile, capath, cadefault, context)\u001b[0m\n\u001b[1;32m    214\u001b[0m \u001b[38;5;28;01melse\u001b[39;00m:\n\u001b[1;32m    215\u001b[0m     opener \u001b[38;5;241m=\u001b[39m _opener\n\u001b[0;32m--> 216\u001b[0m \u001b[38;5;28;01mreturn\u001b[39;00m \u001b[43mopener\u001b[49m\u001b[38;5;241;43m.\u001b[39;49m\u001b[43mopen\u001b[49m\u001b[43m(\u001b[49m\u001b[43murl\u001b[49m\u001b[43m,\u001b[49m\u001b[43m \u001b[49m\u001b[43mdata\u001b[49m\u001b[43m,\u001b[49m\u001b[43m \u001b[49m\u001b[43mtimeout\u001b[49m\u001b[43m)\u001b[49m\n",
      "File \u001b[0;32m/opt/conda/lib/python3.11/urllib/request.py:525\u001b[0m, in \u001b[0;36mOpenerDirector.open\u001b[0;34m(self, fullurl, data, timeout)\u001b[0m\n\u001b[1;32m    523\u001b[0m \u001b[38;5;28;01mfor\u001b[39;00m processor \u001b[38;5;129;01min\u001b[39;00m \u001b[38;5;28mself\u001b[39m\u001b[38;5;241m.\u001b[39mprocess_response\u001b[38;5;241m.\u001b[39mget(protocol, []):\n\u001b[1;32m    524\u001b[0m     meth \u001b[38;5;241m=\u001b[39m \u001b[38;5;28mgetattr\u001b[39m(processor, meth_name)\n\u001b[0;32m--> 525\u001b[0m     response \u001b[38;5;241m=\u001b[39m \u001b[43mmeth\u001b[49m\u001b[43m(\u001b[49m\u001b[43mreq\u001b[49m\u001b[43m,\u001b[49m\u001b[43m \u001b[49m\u001b[43mresponse\u001b[49m\u001b[43m)\u001b[49m\n\u001b[1;32m    527\u001b[0m \u001b[38;5;28;01mreturn\u001b[39;00m response\n",
      "File \u001b[0;32m/opt/conda/lib/python3.11/urllib/request.py:634\u001b[0m, in \u001b[0;36mHTTPErrorProcessor.http_response\u001b[0;34m(self, request, response)\u001b[0m\n\u001b[1;32m    631\u001b[0m \u001b[38;5;66;03m# According to RFC 2616, \"2xx\" code indicates that the client's\u001b[39;00m\n\u001b[1;32m    632\u001b[0m \u001b[38;5;66;03m# request was successfully received, understood, and accepted.\u001b[39;00m\n\u001b[1;32m    633\u001b[0m \u001b[38;5;28;01mif\u001b[39;00m \u001b[38;5;129;01mnot\u001b[39;00m (\u001b[38;5;241m200\u001b[39m \u001b[38;5;241m<\u001b[39m\u001b[38;5;241m=\u001b[39m code \u001b[38;5;241m<\u001b[39m \u001b[38;5;241m300\u001b[39m):\n\u001b[0;32m--> 634\u001b[0m     response \u001b[38;5;241m=\u001b[39m \u001b[38;5;28;43mself\u001b[39;49m\u001b[38;5;241;43m.\u001b[39;49m\u001b[43mparent\u001b[49m\u001b[38;5;241;43m.\u001b[39;49m\u001b[43merror\u001b[49m\u001b[43m(\u001b[49m\n\u001b[1;32m    635\u001b[0m \u001b[43m        \u001b[49m\u001b[38;5;124;43m'\u001b[39;49m\u001b[38;5;124;43mhttp\u001b[39;49m\u001b[38;5;124;43m'\u001b[39;49m\u001b[43m,\u001b[49m\u001b[43m \u001b[49m\u001b[43mrequest\u001b[49m\u001b[43m,\u001b[49m\u001b[43m \u001b[49m\u001b[43mresponse\u001b[49m\u001b[43m,\u001b[49m\u001b[43m \u001b[49m\u001b[43mcode\u001b[49m\u001b[43m,\u001b[49m\u001b[43m \u001b[49m\u001b[43mmsg\u001b[49m\u001b[43m,\u001b[49m\u001b[43m \u001b[49m\u001b[43mhdrs\u001b[49m\u001b[43m)\u001b[49m\n\u001b[1;32m    637\u001b[0m \u001b[38;5;28;01mreturn\u001b[39;00m response\n",
      "File \u001b[0;32m/opt/conda/lib/python3.11/urllib/request.py:563\u001b[0m, in \u001b[0;36mOpenerDirector.error\u001b[0;34m(self, proto, *args)\u001b[0m\n\u001b[1;32m    561\u001b[0m \u001b[38;5;28;01mif\u001b[39;00m http_err:\n\u001b[1;32m    562\u001b[0m     args \u001b[38;5;241m=\u001b[39m (\u001b[38;5;28mdict\u001b[39m, \u001b[38;5;124m'\u001b[39m\u001b[38;5;124mdefault\u001b[39m\u001b[38;5;124m'\u001b[39m, \u001b[38;5;124m'\u001b[39m\u001b[38;5;124mhttp_error_default\u001b[39m\u001b[38;5;124m'\u001b[39m) \u001b[38;5;241m+\u001b[39m orig_args\n\u001b[0;32m--> 563\u001b[0m     \u001b[38;5;28;01mreturn\u001b[39;00m \u001b[38;5;28;43mself\u001b[39;49m\u001b[38;5;241;43m.\u001b[39;49m\u001b[43m_call_chain\u001b[49m\u001b[43m(\u001b[49m\u001b[38;5;241;43m*\u001b[39;49m\u001b[43margs\u001b[49m\u001b[43m)\u001b[49m\n",
      "File \u001b[0;32m/opt/conda/lib/python3.11/urllib/request.py:496\u001b[0m, in \u001b[0;36mOpenerDirector._call_chain\u001b[0;34m(self, chain, kind, meth_name, *args)\u001b[0m\n\u001b[1;32m    494\u001b[0m \u001b[38;5;28;01mfor\u001b[39;00m handler \u001b[38;5;129;01min\u001b[39;00m handlers:\n\u001b[1;32m    495\u001b[0m     func \u001b[38;5;241m=\u001b[39m \u001b[38;5;28mgetattr\u001b[39m(handler, meth_name)\n\u001b[0;32m--> 496\u001b[0m     result \u001b[38;5;241m=\u001b[39m \u001b[43mfunc\u001b[49m\u001b[43m(\u001b[49m\u001b[38;5;241;43m*\u001b[39;49m\u001b[43margs\u001b[49m\u001b[43m)\u001b[49m\n\u001b[1;32m    497\u001b[0m     \u001b[38;5;28;01mif\u001b[39;00m result \u001b[38;5;129;01mis\u001b[39;00m \u001b[38;5;129;01mnot\u001b[39;00m \u001b[38;5;28;01mNone\u001b[39;00m:\n\u001b[1;32m    498\u001b[0m         \u001b[38;5;28;01mreturn\u001b[39;00m result\n",
      "File \u001b[0;32m/opt/conda/lib/python3.11/urllib/request.py:643\u001b[0m, in \u001b[0;36mHTTPDefaultErrorHandler.http_error_default\u001b[0;34m(self, req, fp, code, msg, hdrs)\u001b[0m\n\u001b[1;32m    642\u001b[0m \u001b[38;5;28;01mdef\u001b[39;00m \u001b[38;5;21mhttp_error_default\u001b[39m(\u001b[38;5;28mself\u001b[39m, req, fp, code, msg, hdrs):\n\u001b[0;32m--> 643\u001b[0m     \u001b[38;5;28;01mraise\u001b[39;00m HTTPError(req\u001b[38;5;241m.\u001b[39mfull_url, code, msg, hdrs, fp)\n",
      "\u001b[0;31mHTTPError\u001b[0m: HTTP Error 404: Not Found"
     ]
    }
   ],
   "source": [
    "download_from_urls(urls, orderid)"
   ]
  },
  {
   "cell_type": "code",
   "execution_count": null,
   "id": "bf63c79e-9393-4a76-a3e8-3d5179d5f2d6",
   "metadata": {},
   "outputs": [],
   "source": []
  }
 ],
 "metadata": {
  "kernelspec": {
   "display_name": "Python 3 (ipykernel)",
   "language": "python",
   "name": "python3"
  },
  "language_info": {
   "codemirror_mode": {
    "name": "ipython",
    "version": 3
   },
   "file_extension": ".py",
   "mimetype": "text/x-python",
   "name": "python",
   "nbconvert_exporter": "python",
   "pygments_lexer": "ipython3",
   "version": "3.11.9"
  }
 },
 "nbformat": 4,
 "nbformat_minor": 5
}
