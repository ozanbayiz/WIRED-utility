{
 "cells": [
  {
   "cell_type": "code",
   "execution_count": 1,
   "metadata": {},
   "outputs": [],
   "source": [
    "import os\n",
    "import sys\n",
    "import gc\n",
    "import glob\n",
    "import time\n",
    "from datetime import datetime\n",
    "from dateutil.relativedelta import relativedelta\n",
    "import math\n",
    "\n",
    "import json\n",
    "import geojson\n",
    "import requests\n",
    "import urllib\n",
    "from pathlib import Path\n",
    "\n",
    "import numpy as np\n",
    "import pandas as pd\n",
    "import geopandas as gpd\n",
    "#os.environ['PROJ_LIB'] =  '/srv/starter_content/_User-Persistent-Storage_/wired-utility/share/proj/'\n",
    "from osgeo import gdal, ogr, osr\n",
    "import shapely\n",
    "\n",
    "import rasterio\n",
    "from rasterio.features import rasterize\n",
    "\n",
    "import matplotlib.pyplot as plt\n",
    "\n",
    "import warnings\n",
    "warnings.filterwarnings(\"ignore\")\n",
    "\n",
    "import multiprocessing as mp\n",
    "from tqdm import tqdm\n",
    "\n",
    "from PIL import Image\n",
    "import tempfile\n",
    "import folium"
   ]
  },
  {
   "cell_type": "code",
   "execution_count": 13,
   "metadata": {},
   "outputs": [],
   "source": [
    "#UTILITY_URL = 'https://services3.arcgis.com/bWPjFyq029ChCGur/arcgis/rest/services/Transmission_Line/FeatureServer/2'\n",
    "UTILITY_URL = 'https://services2.arcgis.com/z5VWEXupJpBJnZRq/ArcGIS/rest/services/All_Transmission_WECC_JUL2021/FeatureServer/3'\n",
    "\n",
    "sierra_nevada_shape_path =  \"utils/sierra_nevada_boundary.geojson\"\n",
    "SN_DIR = \"data/sierra_nevada/\"\n",
    "WECC_PERIMETER_PATH = \"./data/wecc_filtered_fires.geojson\" \n",
    "\n",
    "SIERRA_NEVADA_SHAPE = gpd.read_file(sierra_nevada_shape_path).to_crs(epsg=4326).loc[0, 'geometry']\n",
    "sn_shape_df = gpd.read_file(sierra_nevada_shape_path).to_crs(epsg=4326)"
   ]
  },
  {
   "cell_type": "code",
   "execution_count": 4,
   "metadata": {},
   "outputs": [
    {
     "name": "stderr",
     "output_type": "stream",
     "text": [
      "Exception ignored in: <bound method IPythonKernel._clean_thread_parent_frames of <ipykernel.ipkernel.IPythonKernel object at 0x106fa9d60>>\n",
      "Traceback (most recent call last):\n",
      "  File \"/opt/anaconda3/envs/wired-utility/lib/python3.12/site-packages/ipykernel/ipkernel.py\", line 775, in _clean_thread_parent_frames\n",
      "    def _clean_thread_parent_frames(\n",
      "\n",
      "KeyboardInterrupt: \n"
     ]
    }
   ],
   "source": [
    "wecc_perimeter_df = gpd.read_file(WECC_PERIMETER_PATH)"
   ]
  },
  {
   "cell_type": "code",
   "execution_count": 14,
   "metadata": {},
   "outputs": [],
   "source": [
    "sn_perimeter_df = gpd.sjoin(wecc_perimeter_df, sn_shape_df, how='inner', op='intersects')\n",
    "sn_perimeter_df = sn_perimeter_df.drop(columns=['index_right'])"
   ]
  },
  {
   "cell_type": "code",
   "execution_count": 15,
   "metadata": {},
   "outputs": [
    {
     "data": {
      "text/plain": [
       "(470, 17)"
      ]
     },
     "execution_count": 15,
     "metadata": {},
     "output_type": "execute_result"
    }
   ],
   "source": [
    "sn_perimeter_df.shape"
   ]
  },
  {
   "cell_type": "code",
   "execution_count": 16,
   "metadata": {},
   "outputs": [],
   "source": [
    "sn_perimeter_df.read(\"all_sn_fire_perimeters.geojson\")"
   ]
  },
  {
   "cell_type": "code",
   "execution_count": null,
   "metadata": {},
   "outputs": [],
   "source": []
  }
 ],
 "metadata": {
  "kernelspec": {
   "display_name": "base",
   "language": "python",
   "name": "python3"
  },
  "language_info": {
   "codemirror_mode": {
    "name": "ipython",
    "version": 3
   },
   "file_extension": ".py",
   "mimetype": "text/x-python",
   "name": "python",
   "nbconvert_exporter": "python",
   "pygments_lexer": "ipython3",
   "version": "3.12.3"
  }
 },
 "nbformat": 4,
 "nbformat_minor": 2
}
