{
 "cells": [
  {
   "cell_type": "code",
   "execution_count": 1,
   "id": "463b5e48-626f-4d2a-acee-1b255e2dda50",
   "metadata": {},
   "outputs": [],
   "source": [
    "import os\n",
    "import json\n",
    "import time\n",
    "import requests\n",
    "import urllib.parse\n",
    "import urllib.request\n",
    "import warnings\n",
    "import geopandas as gpd\n",
    "import pandas as pd\n",
    "from osgeo import gdal, ogr\n",
    "from shapely import wkt\n",
    "import datetime\n",
    "from tqdm.notebook import tqdm\n",
    "# remove warnings\n",
    "import multiprocessing\n",
    "\n",
    "warnings.filterwarnings('ignore')"
   ]
  },
  {
   "cell_type": "code",
   "execution_count": 2,
   "id": "87afbec0-201b-46f4-ab4f-e95e673610e9",
   "metadata": {},
   "outputs": [],
   "source": [
    "DATA_DIR = \"./data/\"\n",
    "FIRE_FP = DATA_DIR + \"fire.geojson\"\n",
    "TREAT_DIR = DATA_DIR + \"treatment/\"\n",
    "TREAT_FPS = [\"point.geojson\", \"line.geojson\", \"poly.geojson\"]"
   ]
  },
  {
   "cell_type": "markdown",
   "id": "7020d483-5f74-48ce-9732-6768ff5b1004",
   "metadata": {},
   "source": [
    "# Get Fire Data"
   ]
  },
  {
   "cell_type": "code",
   "execution_count": 5,
   "id": "ef792a30-f52b-4018-9c4c-d403b8f6b032",
   "metadata": {
    "scrolled": true
   },
   "outputs": [],
   "source": [
    "def get_fire_data():\n",
    "    base_url = \"https://services1.arcgis.com/jUJYIo9tSA7EHvfZ/arcgis/rest/services/California_Fire_Perimeters/FeatureServer/0/\"\n",
    "    \n",
    "    start = time.perf_counter()\n",
    "    print('=' * 90)\n",
    "    print('handling {} '.format(base_url))\n",
    "    \n",
    "    # Get record extract limit\n",
    "    url_string = base_url + \"?f=json\"\n",
    "    print(\"\\nGetting record extract limit\", url_string)\n",
    "    j = urllib.request.urlopen(url_string)\n",
    "    js = json.load(j)\n",
    "    max_records_count = int(js[\"maxRecordCount\"])\n",
    "    print((\"Record extract limit: %s\" % max_records_count))\n",
    "    max_records_count = min(max_records_count, 800)\n",
    "    \n",
    "    # get count of objects\n",
    "    count_query = \"query?where=%20(YEAR_%20%3D%202022%20OR%20YEAR_%20%3D%209999)%20&outFields=*&returnCountOnly=true&outSR=4326&f=json\"\n",
    "    url_string = base_url + count_query\n",
    "    print(\"\\nGetting count of objects\", url_string)\n",
    "    j = urllib.request.urlopen(url_string)\n",
    "    js = json.load(j)\n",
    "    num_of_records = js['count']\n",
    "    print((\"Number of target records: %s\" % num_of_records))\n",
    "    \n",
    "    print(\"\\nGathering records…\")\n",
    "    gather_query = \"query?where=%20(YEAR_%20%3D%202022%20OR%20YEAR_%20%3D%209999)%20&outFields=*&outSR=4326&f=json\"\n",
    "    url_string = base_url + gather_query\n",
    "    resp = requests.get(url_string, verify=False)\n",
    "    print(url_string)\n",
    "    data = resp.json()\n",
    "    \n",
    "    print(\"\\nProcessing data...\")\n",
    "    for feat in data['features']:\n",
    "        geo = {'type':'polygon', 'coordinates':feat['geometry']['rings']}\n",
    "        feat['geometry'] = geo\n",
    "        feat['properties'] = feat['attributes']\n",
    "        del feat['attributes']\n",
    "    fires = gpd.GeoDataFrame.from_features(data['features'], crs='EPSG:4269')\n",
    "    fires = fires.loc[fires['geometry'].is_valid, :]\n",
    "    columns_lower = { col: col.lower() for col in fires.columns}\n",
    "    fires = fires.rename(columns=columns_lower)\n",
    "    fires['alarm_date'] = [datetime.datetime.fromtimestamp(ms/1000.0) for ms in fires['alarm_date']]\n",
    "    fires['cont_date'] = [datetime.datetime.fromtimestamp(ms/1000.0) for ms in fires['cont_date']]\n",
    "    fires = fires.set_index('objectid')\n",
    "    fires = fires.to_crs(32614)\n",
    "    \n",
    "    end = time.perf_counter()\n",
    "    print('=' * 90)\n",
    "    print('Number of requests: {}'.format(1))\n",
    "    print(f'Finished in {round(end - start, 2)} second(s)')\n",
    "    return fires"
   ]
  },
  {
   "cell_type": "code",
   "execution_count": 6,
   "id": "6069a9a3-51d4-41f0-bd5d-727f361f59af",
   "metadata": {},
   "outputs": [
    {
     "name": "stdout",
     "output_type": "stream",
     "text": [
      "==========================================================================================\n",
      "handling https://services1.arcgis.com/jUJYIo9tSA7EHvfZ/arcgis/rest/services/California_Fire_Perimeters/FeatureServer/0/ \n",
      "\n",
      "Getting record extract limit https://services1.arcgis.com/jUJYIo9tSA7EHvfZ/arcgis/rest/services/California_Fire_Perimeters/FeatureServer/0/?f=json\n",
      "Record extract limit: 2000\n",
      "\n",
      "Getting count of objects https://services1.arcgis.com/jUJYIo9tSA7EHvfZ/arcgis/rest/services/California_Fire_Perimeters/FeatureServer/0/query?where=%20(YEAR_%20%3D%202022%20OR%20YEAR_%20%3D%209999)%20&outFields=*&returnCountOnly=true&outSR=4326&f=json\n",
      "Number of target records: 306\n",
      "\n",
      "Gathering records…\n",
      "https://services1.arcgis.com/jUJYIo9tSA7EHvfZ/arcgis/rest/services/California_Fire_Perimeters/FeatureServer/0/query?where=%20(YEAR_%20%3D%202022%20OR%20YEAR_%20%3D%209999)%20&outFields=*&outSR=4326&f=json\n",
      "\n",
      "Processing data...\n",
      "==========================================================================================\n",
      "Number of requests: 1\n",
      "Finished in 7.09 second(s)\n"
     ]
    }
   ],
   "source": [
    "fires = get_fire_data()"
   ]
  },
  {
   "cell_type": "code",
   "execution_count": 41,
   "id": "e0110487-881e-4c61-bdd6-4fd5fa5edbec",
   "metadata": {},
   "outputs": [
    {
     "name": "stdout",
     "output_type": "stream",
     "text": [
      "'./data/fire.geojson' does not exist.\n",
      "    Getting Fire Data...\n",
      "==========================================================================================\n",
      "handling https://services1.arcgis.com/jUJYIo9tSA7EHvfZ/arcgis/rest/services/California_Fire_Perimeters/FeatureServer/0/ \n",
      "\n",
      "Getting record extract limit https://services1.arcgis.com/jUJYIo9tSA7EHvfZ/arcgis/rest/services/California_Fire_Perimeters/FeatureServer/0/?f=json\n",
      "Record extract limit: 2000\n",
      "\n",
      "Getting count of objects https://services1.arcgis.com/jUJYIo9tSA7EHvfZ/arcgis/rest/services/California_Fire_Perimeters/FeatureServer/0/query?where=%20(YEAR_%20%3D%202022%20OR%20YEAR_%20%3D%209999)%20&outFields=*&returnCountOnly=true&outSR=4326&f=json\n",
      "Number of target records: 306\n",
      "\n",
      "Gathering records…\n",
      "https://services1.arcgis.com/jUJYIo9tSA7EHvfZ/arcgis/rest/services/California_Fire_Perimeters/FeatureServer/0/query?where=%20(YEAR_%20%3D%202022%20OR%20YEAR_%20%3D%209999)%20&outFields=*&outSR=4326&f=json\n",
      "\n",
      "Processing data...\n",
      "==========================================================================================\n",
      "Number of requests: 1\n",
      "Finished in 4.01 second(s)\n",
      "    Saving to ./data/fire.geojson...\n",
      "\n",
      "Finished in 5.3 second(s)\n"
     ]
    }
   ],
   "source": [
    "start = time.perf_counter()\n",
    "if not os.path.exists(FIRE_FP):\n",
    "    print(f\"'{FIRE_FP}' does not exist.\\n    Getting Fire Data...\")\n",
    "    fires = get_fire_data()\n",
    "    print(f\"    Saving to {FIRE_FP}...\")\n",
    "    fires.to_file(FIRE_FP)\n",
    "else:\n",
    "    print(f\"'{FIRE_FP}' already exists.\\n    Loading Fire Data...\")\n",
    "    fires = gpd.read_file(FIRE_FP)\n",
    "end = time.perf_counter()\n",
    "print(f'\\nFinished in {round(end - start, 2)} second(s)')"
   ]
  },
  {
   "cell_type": "markdown",
   "id": "45c491fd-6bbf-4b05-b9e6-76381705de6f",
   "metadata": {},
   "source": [
    "# Get Treatment Data"
   ]
  },
  {
   "cell_type": "code",
   "execution_count": 4,
   "id": "6d67ca25-90d9-4288-91b5-5b31f8786484",
   "metadata": {
    "scrolled": true
   },
   "outputs": [],
   "source": [
    "TREAT_URLS = [\"https://gsal.sig-gis.com/server/rest/services/Hosted/ITS_Dashboard_Feature_Layer/FeatureServer/0\", \n",
    "              #\"https://gsal.sig-gis.com/server/rest/services/Hosted/ITS_Dashboard_Feature_Layer/FeatureServer/1\", \n",
    "              \"https://gsal.sig-gis.com/server/rest/services/Hosted/ITS_Dashboard_Feature_Layer/FeatureServer/2\"]\n",
    "\n",
    "def fetch_all_features(base_url):\n",
    "    start = time.perf_counter()\n",
    "    print('=' * 90)\n",
    "    print('handling {} '.format(base_url))\n",
    "    \n",
    "    # Get record extract limit\n",
    "    url_string = base_url + \"?f=json\"\n",
    "    j = urllib.request.urlopen(url_string)\n",
    "    js = json.load(j)\n",
    "    max_records_count = int(js[\"maxRecordCount\"])\n",
    "    print((\"Record extract limit: %s\" % max_records_count))\n",
    "    \n",
    "    max_records_count = min(max_records_count, 800)\n",
    "    \n",
    "    # Get object ids of features\n",
    "    fields = \"*\"\n",
    "    where = \"1=1\"\n",
    "    url_string = base_url + \"/query?where={}&returnIdsOnly=true&f=json\".format(where)\n",
    "    j = urllib.request.urlopen(url_string)\n",
    "    js = json.load(j)\n",
    "    id_field = js[\"objectIdFieldName\"]\n",
    "    id_list = js[\"objectIds\"]\n",
    "    id_list.sort()\n",
    "    num_of_records = len(id_list)\n",
    "    print((\"Number of target records: %s\" % num_of_records))\n",
    "    \n",
    "    print(\"Gathering records…\")\n",
    "    features_list = []\n",
    "    \n",
    "    def load_features(urlstring, return_dict):\n",
    "        succeed = False\n",
    "        while not succeed:\n",
    "            try:\n",
    "                resp = requests.get(urlstring, verify=False)\n",
    "                data = resp.json()\n",
    "                gdf = gpd.GeoDataFrame.from_features(data['features'], crs='EPSG:4269')\n",
    "                gdf = gdf.loc[gdf['geometry'].is_valid, :]\n",
    "                return_dict[urlstring] = gdf\n",
    "                succeed = True\n",
    "            except:\n",
    "                print ('Failed to load {}'.format(urlstring))\n",
    "    processes = []\n",
    "    manager = multiprocessing.Manager()\n",
    "    return_dict = manager.dict()\n",
    "    request_number = 0\n",
    "    for i in range(0, num_of_records, max_records_count):\n",
    "        request_number += 1\n",
    "        to_rec = i + (max_records_count - 1)\n",
    "        if to_rec > num_of_records:\n",
    "            to_rec = num_of_records - 1\n",
    "        from_id = id_list[i]\n",
    "        to_id = id_list[to_rec]\n",
    "        where = \"{} >= {} and {} <= {}\".format(id_field, from_id, id_field, to_id)\n",
    "        print(\"  {}: {}\".format(request_number, where))\n",
    "        url_string = base_url + \"/query?where={}&returnGeometry=true&outFields={}&f=geojson\".format(where, fields)\n",
    "    \n",
    "        p = multiprocessing.Process(target=load_features, args=[url_string, return_dict])\n",
    "        p.start()\n",
    "        processes.append(p)\n",
    "    \n",
    "    for p in processes:\n",
    "        p.join()\n",
    "    p.close()\n",
    "    \n",
    "    for url in return_dict.keys():\n",
    "        features_list.append(return_dict[url])\n",
    "    treats = pd.concat(features_list)\n",
    "    treats['activity_end'] = [datetime.datetime.fromtimestamp(ms/1000.0) for ms in treats['activity_end']]\n",
    "    treats = treats.set_index('globalid')\n",
    "    treats = treats.to_crs(32614)\n",
    "    print ('Concatenating finished');\n",
    "    end = time.perf_counter()\n",
    "    print('-' * 50)\n",
    "    print('Number of requests: {}'.format(request_number))\n",
    "    print(f'Finished in {round(end - start, 2)} second(s)')\n",
    "    return treats"
   ]
  },
  {
   "cell_type": "code",
   "execution_count": 31,
   "id": "3de76158-fbb2-4fba-99d4-6f2d9c78fbcc",
   "metadata": {
    "scrolled": true
   },
   "outputs": [
    {
     "name": "stdout",
     "output_type": "stream",
     "text": [
      "==========================================================================================\n",
      "handling https://gsal.sig-gis.com/server/rest/services/Hosted/ITS_Dashboard_Feature_Layer/FeatureServer/0 \n",
      "Record extract limit: 2000\n",
      "Number of target records: 807\n",
      "Gathering records…\n",
      "  1: objectid >= 1 and objectid <= 800\n",
      "  2: objectid >= 801 and objectid <= 807\n",
      "Concatenating finished\n",
      "--------------------------------------------------\n",
      "Number of requests: 2\n",
      "Finished in 1.83 second(s)\n",
      "==========================================================================================\n",
      "handling https://gsal.sig-gis.com/server/rest/services/Hosted/ITS_Dashboard_Feature_Layer/FeatureServer/2 \n",
      "Record extract limit: 2000\n",
      "Number of target records: 8995\n",
      "Gathering records…\n",
      "  1: objectid >= 1 and objectid <= 800\n",
      "  2: objectid >= 801 and objectid <= 1600\n",
      "  3: objectid >= 1601 and objectid <= 2400\n",
      "  4: objectid >= 2401 and objectid <= 3200\n",
      "  5: objectid >= 3201 and objectid <= 4000\n",
      "  6: objectid >= 4001 and objectid <= 4800\n",
      "  7: objectid >= 4801 and objectid <= 5600\n",
      "  8: objectid >= 5601 and objectid <= 6400\n",
      "  9: objectid >= 6401 and objectid <= 7200\n",
      "  10: objectid >= 7201 and objectid <= 8000\n",
      "  11: objectid >= 8001 and objectid <= 8800\n",
      "  12: objectid >= 8801 and objectid <= 8995\n",
      "Concatenating finished\n",
      "--------------------------------------------------\n",
      "Number of requests: 12\n",
      "Finished in 63.16 second(s)\n"
     ]
    }
   ],
   "source": [
    "TREAT_URLS = [\"https://gsal.sig-gis.com/server/rest/services/Hosted/ITS_Dashboard_Feature_Layer/FeatureServer/0\", \n",
    "              #\"https://gsal.sig-gis.com/server/rest/services/Hosted/ITS_Dashboard_Feature_Layer/FeatureServer/1\", \n",
    "              \"https://gsal.sig-gis.com/server/rest/services/Hosted/ITS_Dashboard_Feature_Layer/FeatureServer/2\"]\n",
    "add_buffer = [True, True, False]\n",
    "treats = [fetch_all_features(url) for url in TREAT_URLS]\n",
    "treats.insert(1,gpd.GeoDataFrame())\n",
    "treats = [{'table':treats[i], 'add_buffer':add_buffer[i]} for i in range(len(treats))]"
   ]
  },
  {
   "cell_type": "code",
   "execution_count": 17,
   "id": "d459976e-ca3e-48c9-8fa3-31dc1f0a7d4b",
   "metadata": {},
   "outputs": [],
   "source": [
    "treats.insert(1,gpd.GeoDataFrame())"
   ]
  },
  {
   "cell_type": "code",
   "execution_count": 9,
   "id": "3e44cd83-d56b-446f-9c14-7e7714e8e905",
   "metadata": {
    "scrolled": true
   },
   "outputs": [
    {
     "name": "stdout",
     "output_type": "stream",
     "text": [
      "Directory './data/treatment/' already exists.\n",
      "\n",
      "'./data/treatment/point.geojson' already exists. \n",
      "    Reading data...\n",
      "    Read data from './data/treatment/point.geojson'.\n",
      "    Finished in 0.35 second(s)\n",
      "\n",
      "'./data/treatment/line.geojson' already exists. \n",
      "    Reading data...\n"
     ]
    },
    {
     "ename": "KeyboardInterrupt",
     "evalue": "",
     "output_type": "error",
     "traceback": [
      "\u001b[0;31m---------------------------------------------------------------------------\u001b[0m",
      "\u001b[0;31mKeyboardInterrupt\u001b[0m                         Traceback (most recent call last)",
      "Cell \u001b[0;32mIn[9], line 22\u001b[0m\n\u001b[1;32m     20\u001b[0m \u001b[38;5;28;01melse\u001b[39;00m: \n\u001b[1;32m     21\u001b[0m     \u001b[38;5;28mprint\u001b[39m(\u001b[38;5;124mf\u001b[39m\u001b[38;5;124m\"\u001b[39m\u001b[38;5;130;01m\\n\u001b[39;00m\u001b[38;5;124m'\u001b[39m\u001b[38;5;132;01m{\u001b[39;00mtreat_fp\u001b[38;5;132;01m}\u001b[39;00m\u001b[38;5;124m'\u001b[39m\u001b[38;5;124m already exists. \u001b[39m\u001b[38;5;130;01m\\n\u001b[39;00m\u001b[38;5;124m    Reading data...\u001b[39m\u001b[38;5;124m\"\u001b[39m) \n\u001b[0;32m---> 22\u001b[0m     treat \u001b[38;5;241m=\u001b[39m \u001b[43mgpd\u001b[49m\u001b[38;5;241;43m.\u001b[39;49m\u001b[43mread_file\u001b[49m\u001b[43m(\u001b[49m\u001b[43mtreat_fp\u001b[49m\u001b[43m)\u001b[49m\n\u001b[1;32m     23\u001b[0m     \u001b[38;5;28mprint\u001b[39m(\u001b[38;5;124mf\u001b[39m\u001b[38;5;124m\"\u001b[39m\u001b[38;5;124m    Read data from \u001b[39m\u001b[38;5;124m'\u001b[39m\u001b[38;5;132;01m{\u001b[39;00mtreat_fp\u001b[38;5;132;01m}\u001b[39;00m\u001b[38;5;124m'\u001b[39m\u001b[38;5;124m.\u001b[39m\u001b[38;5;124m\"\u001b[39m)\n\u001b[1;32m     24\u001b[0m end\u001b[38;5;241m=\u001b[39mtime\u001b[38;5;241m.\u001b[39mperf_counter()\n",
      "File \u001b[0;32m/srv/starter_content/_User-Persistent-Storage_/wired-utility/lib/python3.12/site-packages/geopandas/io/file.py:289\u001b[0m, in \u001b[0;36m_read_file\u001b[0;34m(filename, bbox, mask, rows, engine, **kwargs)\u001b[0m\n\u001b[1;32m    286\u001b[0m     \u001b[38;5;28;01melse\u001b[39;00m:\n\u001b[1;32m    287\u001b[0m         path_or_bytes \u001b[38;5;241m=\u001b[39m filename\n\u001b[0;32m--> 289\u001b[0m     \u001b[38;5;28;01mreturn\u001b[39;00m \u001b[43m_read_file_fiona\u001b[49m\u001b[43m(\u001b[49m\n\u001b[1;32m    290\u001b[0m \u001b[43m        \u001b[49m\u001b[43mpath_or_bytes\u001b[49m\u001b[43m,\u001b[49m\u001b[43m \u001b[49m\u001b[43mfrom_bytes\u001b[49m\u001b[43m,\u001b[49m\u001b[43m \u001b[49m\u001b[43mbbox\u001b[49m\u001b[38;5;241;43m=\u001b[39;49m\u001b[43mbbox\u001b[49m\u001b[43m,\u001b[49m\u001b[43m \u001b[49m\u001b[43mmask\u001b[49m\u001b[38;5;241;43m=\u001b[39;49m\u001b[43mmask\u001b[49m\u001b[43m,\u001b[49m\u001b[43m \u001b[49m\u001b[43mrows\u001b[49m\u001b[38;5;241;43m=\u001b[39;49m\u001b[43mrows\u001b[49m\u001b[43m,\u001b[49m\u001b[43m \u001b[49m\u001b[38;5;241;43m*\u001b[39;49m\u001b[38;5;241;43m*\u001b[39;49m\u001b[43mkwargs\u001b[49m\n\u001b[1;32m    291\u001b[0m \u001b[43m    \u001b[49m\u001b[43m)\u001b[49m\n\u001b[1;32m    293\u001b[0m \u001b[38;5;28;01melse\u001b[39;00m:\n\u001b[1;32m    294\u001b[0m     \u001b[38;5;28;01mraise\u001b[39;00m \u001b[38;5;167;01mValueError\u001b[39;00m(\u001b[38;5;124mf\u001b[39m\u001b[38;5;124m\"\u001b[39m\u001b[38;5;124munknown engine \u001b[39m\u001b[38;5;124m'\u001b[39m\u001b[38;5;132;01m{\u001b[39;00mengine\u001b[38;5;132;01m}\u001b[39;00m\u001b[38;5;124m'\u001b[39m\u001b[38;5;124m\"\u001b[39m)\n",
      "File \u001b[0;32m/srv/starter_content/_User-Persistent-Storage_/wired-utility/lib/python3.12/site-packages/geopandas/io/file.py:315\u001b[0m, in \u001b[0;36m_read_file_fiona\u001b[0;34m(path_or_bytes, from_bytes, bbox, mask, rows, where, **kwargs)\u001b[0m\n\u001b[1;32m    312\u001b[0m     reader \u001b[38;5;241m=\u001b[39m fiona\u001b[38;5;241m.\u001b[39mopen\n\u001b[1;32m    314\u001b[0m \u001b[38;5;28;01mwith\u001b[39;00m fiona_env():\n\u001b[0;32m--> 315\u001b[0m     \u001b[38;5;28;01mwith\u001b[39;00m \u001b[43mreader\u001b[49m\u001b[43m(\u001b[49m\u001b[43mpath_or_bytes\u001b[49m\u001b[43m,\u001b[49m\u001b[43m \u001b[49m\u001b[38;5;241;43m*\u001b[39;49m\u001b[38;5;241;43m*\u001b[39;49m\u001b[43mkwargs\u001b[49m\u001b[43m)\u001b[49m \u001b[38;5;28;01mas\u001b[39;00m features:\n\u001b[1;32m    316\u001b[0m         crs \u001b[38;5;241m=\u001b[39m features\u001b[38;5;241m.\u001b[39mcrs_wkt\n\u001b[1;32m    317\u001b[0m         \u001b[38;5;66;03m# attempt to get EPSG code\u001b[39;00m\n",
      "File \u001b[0;32m/srv/starter_content/_User-Persistent-Storage_/wired-utility/lib/python3.12/site-packages/fiona/env.py:457\u001b[0m, in \u001b[0;36mensure_env_with_credentials.<locals>.wrapper\u001b[0;34m(*args, **kwds)\u001b[0m\n\u001b[1;32m    454\u001b[0m     session \u001b[38;5;241m=\u001b[39m DummySession()\n\u001b[1;32m    456\u001b[0m \u001b[38;5;28;01mwith\u001b[39;00m env_ctor(session\u001b[38;5;241m=\u001b[39msession):\n\u001b[0;32m--> 457\u001b[0m     \u001b[38;5;28;01mreturn\u001b[39;00m \u001b[43mf\u001b[49m\u001b[43m(\u001b[49m\u001b[38;5;241;43m*\u001b[39;49m\u001b[43margs\u001b[49m\u001b[43m,\u001b[49m\u001b[43m \u001b[49m\u001b[38;5;241;43m*\u001b[39;49m\u001b[38;5;241;43m*\u001b[39;49m\u001b[43mkwds\u001b[49m\u001b[43m)\u001b[49m\n",
      "File \u001b[0;32m/srv/starter_content/_User-Persistent-Storage_/wired-utility/lib/python3.12/site-packages/fiona/__init__.py:292\u001b[0m, in \u001b[0;36mopen\u001b[0;34m(fp, mode, driver, schema, crs, encoding, layer, vfs, enabled_drivers, crs_wkt, allow_unsupported_drivers, **kwargs)\u001b[0m\n\u001b[1;32m    289\u001b[0m     path \u001b[38;5;241m=\u001b[39m parse_path(fp)\n\u001b[1;32m    291\u001b[0m \u001b[38;5;28;01mif\u001b[39;00m mode \u001b[38;5;129;01min\u001b[39;00m (\u001b[38;5;124m\"\u001b[39m\u001b[38;5;124ma\u001b[39m\u001b[38;5;124m\"\u001b[39m, \u001b[38;5;124m\"\u001b[39m\u001b[38;5;124mr\u001b[39m\u001b[38;5;124m\"\u001b[39m):\n\u001b[0;32m--> 292\u001b[0m     colxn \u001b[38;5;241m=\u001b[39m \u001b[43mCollection\u001b[49m\u001b[43m(\u001b[49m\n\u001b[1;32m    293\u001b[0m \u001b[43m        \u001b[49m\u001b[43mpath\u001b[49m\u001b[43m,\u001b[49m\n\u001b[1;32m    294\u001b[0m \u001b[43m        \u001b[49m\u001b[43mmode\u001b[49m\u001b[43m,\u001b[49m\n\u001b[1;32m    295\u001b[0m \u001b[43m        \u001b[49m\u001b[43mdriver\u001b[49m\u001b[38;5;241;43m=\u001b[39;49m\u001b[43mdriver\u001b[49m\u001b[43m,\u001b[49m\n\u001b[1;32m    296\u001b[0m \u001b[43m        \u001b[49m\u001b[43mencoding\u001b[49m\u001b[38;5;241;43m=\u001b[39;49m\u001b[43mencoding\u001b[49m\u001b[43m,\u001b[49m\n\u001b[1;32m    297\u001b[0m \u001b[43m        \u001b[49m\u001b[43mlayer\u001b[49m\u001b[38;5;241;43m=\u001b[39;49m\u001b[43mlayer\u001b[49m\u001b[43m,\u001b[49m\n\u001b[1;32m    298\u001b[0m \u001b[43m        \u001b[49m\u001b[43menabled_drivers\u001b[49m\u001b[38;5;241;43m=\u001b[39;49m\u001b[43menabled_drivers\u001b[49m\u001b[43m,\u001b[49m\n\u001b[1;32m    299\u001b[0m \u001b[43m        \u001b[49m\u001b[43mallow_unsupported_drivers\u001b[49m\u001b[38;5;241;43m=\u001b[39;49m\u001b[43mallow_unsupported_drivers\u001b[49m\u001b[43m,\u001b[49m\n\u001b[1;32m    300\u001b[0m \u001b[43m        \u001b[49m\u001b[38;5;241;43m*\u001b[39;49m\u001b[38;5;241;43m*\u001b[39;49m\u001b[43mkwargs\u001b[49m\n\u001b[1;32m    301\u001b[0m \u001b[43m    \u001b[49m\u001b[43m)\u001b[49m\n\u001b[1;32m    302\u001b[0m \u001b[38;5;28;01melif\u001b[39;00m mode \u001b[38;5;241m==\u001b[39m \u001b[38;5;124m\"\u001b[39m\u001b[38;5;124mw\u001b[39m\u001b[38;5;124m\"\u001b[39m:\n\u001b[1;32m    303\u001b[0m     colxn \u001b[38;5;241m=\u001b[39m Collection(\n\u001b[1;32m    304\u001b[0m         path,\n\u001b[1;32m    305\u001b[0m         mode,\n\u001b[0;32m   (...)\u001b[0m\n\u001b[1;32m    314\u001b[0m         \u001b[38;5;241m*\u001b[39m\u001b[38;5;241m*\u001b[39mkwargs\n\u001b[1;32m    315\u001b[0m     )\n",
      "File \u001b[0;32m/srv/starter_content/_User-Persistent-Storage_/wired-utility/lib/python3.12/site-packages/fiona/collection.py:243\u001b[0m, in \u001b[0;36mCollection.__init__\u001b[0;34m(self, path, mode, driver, schema, crs, encoding, layer, vsi, archive, enabled_drivers, crs_wkt, ignore_fields, ignore_geometry, include_fields, wkt_version, allow_unsupported_drivers, **kwargs)\u001b[0m\n\u001b[1;32m    241\u001b[0m \u001b[38;5;28;01mif\u001b[39;00m \u001b[38;5;28mself\u001b[39m\u001b[38;5;241m.\u001b[39mmode \u001b[38;5;241m==\u001b[39m \u001b[38;5;124m\"\u001b[39m\u001b[38;5;124mr\u001b[39m\u001b[38;5;124m\"\u001b[39m:\n\u001b[1;32m    242\u001b[0m     \u001b[38;5;28mself\u001b[39m\u001b[38;5;241m.\u001b[39msession \u001b[38;5;241m=\u001b[39m Session()\n\u001b[0;32m--> 243\u001b[0m     \u001b[38;5;28;43mself\u001b[39;49m\u001b[38;5;241;43m.\u001b[39;49m\u001b[43msession\u001b[49m\u001b[38;5;241;43m.\u001b[39;49m\u001b[43mstart\u001b[49m\u001b[43m(\u001b[49m\u001b[38;5;28;43mself\u001b[39;49m\u001b[43m,\u001b[49m\u001b[43m \u001b[49m\u001b[38;5;241;43m*\u001b[39;49m\u001b[38;5;241;43m*\u001b[39;49m\u001b[43mkwargs\u001b[49m\u001b[43m)\u001b[49m\n\u001b[1;32m    244\u001b[0m \u001b[38;5;28;01melif\u001b[39;00m \u001b[38;5;28mself\u001b[39m\u001b[38;5;241m.\u001b[39mmode \u001b[38;5;129;01min\u001b[39;00m (\u001b[38;5;124m\"\u001b[39m\u001b[38;5;124ma\u001b[39m\u001b[38;5;124m\"\u001b[39m, \u001b[38;5;124m\"\u001b[39m\u001b[38;5;124mw\u001b[39m\u001b[38;5;124m\"\u001b[39m):\n\u001b[1;32m    245\u001b[0m     \u001b[38;5;28mself\u001b[39m\u001b[38;5;241m.\u001b[39msession \u001b[38;5;241m=\u001b[39m WritingSession()\n",
      "\u001b[0;31mKeyboardInterrupt\u001b[0m: "
     ]
    }
   ],
   "source": [
    "if not os.path.exists(TREAT_DIR): \n",
    "    try: \n",
    "        os.makedirs(TREAT_DIR)\n",
    "        print(f\"Directory '{TREAT_DIR}' created successfully.\") \n",
    "    except OSError as e: \n",
    "        print(f\"Error creating directory '{TREAT_DIR}': {e}\") \n",
    "else: \n",
    "    print(f\"Directory '{TREAT_DIR}' already exists.\") \n",
    "treats = []\n",
    "for i in range(3):\n",
    "    start=time.perf_counter()\n",
    "    treat_fp = TREAT_DIR + TREAT_FPS[i]\n",
    "    if not os.path.exists(treat_fp): \n",
    "        treat = fetch_all_features(TREAT_URLS[i])\n",
    "        try: \n",
    "            treat.to_file(treat_fp)\n",
    "            print(f\"\\n'{treat_fp}' created successfully.\") \n",
    "        except e: \n",
    "            print(f\"Error creating '{treat_fp}': {e}\") \n",
    "    else: \n",
    "        print(f\"\\n'{treat_fp}' already exists. \\n    Reading data...\") \n",
    "        treat = gpd.read_file(treat_fp)\n",
    "    end=time.perf_counter()\n",
    "    print(f'    Finished in {round(end - start, 2)} second(s)')\n",
    "    treats.append(treat)"
   ]
  },
  {
   "cell_type": "markdown",
   "id": "1abd5a5f-b90c-4606-bff6-903c77f0da28",
   "metadata": {},
   "source": [
    "# Work With the Data"
   ]
  },
  {
   "cell_type": "code",
   "execution_count": null,
   "id": "15db75dd-e2cd-4288-9c40-2bc11067c00a",
   "metadata": {},
   "outputs": [],
   "source": [
    "def get_num_intersections(objectid, buffer_distance):\n",
    "    fire = fires.loc[objectid]\n",
    "    alarm_date = fire['alarm_date']\n",
    "    fire_poly = ogr.CreateGeometryFromWkt(str(fire['geometry']))\n",
    "    \n",
    "    poly_treats = treats[2]\n",
    "    lp_treats = pd.concat(treats[:2])\n",
    "    if fires.crs != poly_treats.crs:\n",
    "        poly_treats = poly_treats.to_crs(fires.crs)\n",
    "    if fires.crs != lp_treats.crs:\n",
    "        lp_treats = lp_treats.to_crs(fires.crs)\n",
    "\n",
    "    num_intersections = 0\n",
    "    \n",
    "    print(\"finding intersections with polygon treatment areas...\")\n",
    "    for idx_t, treat_row in poly_treats.iterrows():\n",
    "        if (treat_row['activity_end'] < alarm_date):\n",
    "            treat_poly = ogr.CreateGeometryFromWkt(treat_row['geometry'].wkt)\n",
    "            if treat_poly.Intersects(fire_poly):\n",
    "                num_intersections += 1\n",
    "    print(\"finding intersections with point/line treatment areas...\")       \n",
    "    for idx_t, treat_row in lp_treats.iterrows():\n",
    "        if (treat_row['activity_end'] < alarm_date):\n",
    "            treat_thing = ogr.CreateGeometryFromWkt(treat_row['geometry'].wkt)\n",
    "            treat_geom = treat_thing.Buffer(buffer_distance)\n",
    "            if treat_geom.Intersects(fire_poly):\n",
    "                num_intersections += 1\n",
    "    print(num_intersections, \"intersections\")\n",
    "    return num_intersections"
   ]
  },
  {
   "cell_type": "code",
   "execution_count": null,
   "id": "58c185a7-be56-4607-b464-f79e26ab5de3",
   "metadata": {},
   "outputs": [],
   "source": [
    "def get_poly_treatment_intersections(objectid):\n",
    "    fire = fires.loc[objectid]\n",
    "    alarm_date = fire['alarm_date']\n",
    "    fire_poly = ogr.CreateGeometryFromWkt(str(fire['geometry']))\n",
    "    poly_treats = treats[2]\n",
    "    if fires.crs != poly_treats.crs:\n",
    "        poly_treats = poly_treats.to_crs(fires.crs)\n",
    "    #find treatments before fire that intersect with fire\n",
    "    print(\"finding relevant treatment areas...\")\n",
    "    intersection_idxs = []\n",
    "    for idx_t, treat_row in poly_treats.iterrows():\n",
    "        if (treat_row['activity_end'] < alarm_date):\n",
    "            treat_poly = ogr.CreateGeometryFromWkt(treat_row['geometry'].wkt)\n",
    "            if treat_poly.Intersects(fire_poly):\n",
    "                intersection_idxs.append(idx_t)\n",
    "    #get intersections\n",
    "    print(\"found {0} intersections\".format(len(intersection_idxs)))\n",
    "    print(\"finding areas of intersection...\")\n",
    "    poly_treats_relevant = poly_treats.loc[intersection_idxs]\n",
    "    intersections = []\n",
    "    for idx_t, treat_row in poly_treats_relevant.iterrows():\n",
    "        treat_poly = ogr.CreateGeometryFromWkt(treat_row['geometry'].wkt)\n",
    "        intersections.append(treat_poly.Intersection(fire_poly))\n",
    "    return intersections\n",
    "\n",
    "def get_line_treatment_intersections(objectid, buffer_distance):\n",
    "    fire = fires.loc[objectid]\n",
    "    alarm_date = fire['alarm_date']\n",
    "    fire_poly = ogr.CreateGeometryFromWkt(fire['geometry'].wkt)\n",
    "    lp_treats = pd.concat(treats[:2])\n",
    "    if fires.crs != lp_treats.crs:\n",
    "        lp_treats = lp_treats.to_crs(fires.crs)\n",
    "    #find treatments before fire that intersect with fire\n",
    "    print(\"finding relevant treatment areas...\")\n",
    "    intersection_idxs = []\n",
    "    for idx_t, treat_row in lp_treats.iterrows():\n",
    "        if (treat_row['activity_end'] < alarm_date):\n",
    "            treat_thing = ogr.CreateGeometryFromWkt(treat_row['geometry'].wkt)\n",
    "            treat_geom = treat_thing.Buffer(buffer_distance)\n",
    "            if treat_geom.Intersects(fire_poly):\n",
    "                intersection_idxs.append(idx_t)\n",
    "    print(\"found {0} intersections\".format(len(intersection_idxs)))\n",
    "    #get intersections\n",
    "    print(\"finding areas of intersection...\")\n",
    "    lp_treats_relevant = lp_treats.loc[intersection_idxs]\n",
    "    intersections = []\n",
    "    for idx_t, treat_row in lp_treats_relevant.iterrows():\n",
    "        treat_thing = ogr.CreateGeometryFromWkt(str(treat_row['geometry']))\n",
    "        treat_geom = treat_thing.Buffer(buffer_distance)\n",
    "        intersections.append(treat_geom.Intersection(fire_poly))\n",
    "    return intersections"
   ]
  },
  {
   "cell_type": "code",
   "execution_count": 45,
   "id": "8f39138c-3e49-4856-b7a3-a5b348ccb281",
   "metadata": {},
   "outputs": [],
   "source": [
    "def get_treatment_intersections(objectid, buffer_distance):\n",
    "    fire = fires.loc[objectid]\n",
    "    alarm_date = fire['alarm_date']\n",
    "    fire_poly = ogr.CreateGeometryFromWkt(fire['geometry'].wkt)\n",
    "    \n",
    "    #this might be useful for parallelism\n",
    "    fire_intersects = lambda geom: fire_poly.Intersects(geom)\n",
    "\n",
    "    #look at line/point data\n",
    "    lp_treats = pd.concat(treats[:2])\n",
    "    \n",
    "    intersection_ids = []\n",
    "    intersection_geoms = []\n",
    "    num_intersections = 0\n",
    "    for treat_id, treat_row in lp_treats.iterrows():\n",
    "        if (treat_row['activity_end'] < alarm_date):\n",
    "            treat_geom = ogr.CreateGeometryFromWkt(treat_row['geometry'].wkt)\n",
    "            treat_geom = treat_geom.Buffer(buffer_distance)\n",
    "            \n",
    "            if treat_geom.Intersects(fire_poly):\n",
    "                intersection_ids.append(treat_id)\n",
    "                intersection_geoms.append(treat_geom)\n",
    "                num_intersections += 1\n",
    "    lp_data = [[objectid, intersection_ids[i], intersection_geoms[i].Intersection(fire_poly)] for i in range(num_intersections)]\n",
    "\n",
    "    #look at polygon data\n",
    "    poly_treats = treats[2]\n",
    "    if fires.crs != poly_treats.crs:\n",
    "        poly_treats = poly_treats.to_crs(fires.crs)\n",
    "    intersection_ids = []\n",
    "    intersection_geoms = []\n",
    "    num_intersections = 0\n",
    "    for treat_id, treat_row in poly_treats.iterrows():\n",
    "        if (treat_row['activity_end'] < alarm_date):\n",
    "            treat_poly = ogr.CreateGeometryFromWkt(treat_row['geometry'].wkt)\n",
    "            if treat_poly.Intersects(fire_poly):\n",
    "                intersection_idxs.append(treat_id)\n",
    "                intersection_geoms.append(treat_poly)\n",
    "                num_intersctions += 1\n",
    "    poly_data = [[objectid, intersection_ids[i], intersection_geoms[i].Intersection(fire_poly)] for i in range(num_intersections)]\n",
    "    all_intersection_data = lp_data.extend(poly_data)\n",
    "    intersection_df = gpd.GeoDataFrame(all_intersection_data, columns=['fire_objectid', 'treat_globalid', 'intersection'])\n",
    "    return intersection_df"
   ]
  },
  {
   "cell_type": "code",
   "execution_count": 46,
   "id": "2f01a392-9e15-4cea-ac0c-c5add7de46e0",
   "metadata": {},
   "outputs": [
    {
     "ename": "KeyboardInterrupt",
     "evalue": "",
     "output_type": "error",
     "traceback": [
      "\u001b[0;31m---------------------------------------------------------------------------\u001b[0m",
      "\u001b[0;31mKeyboardInterrupt\u001b[0m                         Traceback (most recent call last)",
      "Cell \u001b[0;32mIn[46], line 1\u001b[0m\n\u001b[0;32m----> 1\u001b[0m \u001b[43mget_treatment_intersections\u001b[49m\u001b[43m(\u001b[49m\u001b[43mfires\u001b[49m\u001b[38;5;241;43m.\u001b[39;49m\u001b[43mindex\u001b[49m\u001b[43m[\u001b[49m\u001b[38;5;241;43m0\u001b[39;49m\u001b[43m]\u001b[49m\u001b[43m,\u001b[49m\u001b[43m \u001b[49m\u001b[38;5;241;43m20\u001b[39;49m\u001b[43m)\u001b[49m\n",
      "Cell \u001b[0;32mIn[45], line 19\u001b[0m, in \u001b[0;36mget_treatment_intersections\u001b[0;34m(objectid, buffer_distance)\u001b[0m\n\u001b[1;32m     17\u001b[0m \u001b[38;5;28;01mif\u001b[39;00m (treat_row[\u001b[38;5;124m'\u001b[39m\u001b[38;5;124mactivity_end\u001b[39m\u001b[38;5;124m'\u001b[39m] \u001b[38;5;241m<\u001b[39m alarm_date):\n\u001b[1;32m     18\u001b[0m     treat_thing \u001b[38;5;241m=\u001b[39m ogr\u001b[38;5;241m.\u001b[39mCreateGeometryFromWkt(treat_row[\u001b[38;5;124m'\u001b[39m\u001b[38;5;124mgeometry\u001b[39m\u001b[38;5;124m'\u001b[39m]\u001b[38;5;241m.\u001b[39mwkt)\n\u001b[0;32m---> 19\u001b[0m     treat_geom \u001b[38;5;241m=\u001b[39m \u001b[43mtreat_thing\u001b[49m\u001b[38;5;241;43m.\u001b[39;49m\u001b[43mBuffer\u001b[49m\u001b[43m(\u001b[49m\u001b[43mbuffer_distance\u001b[49m\u001b[43m)\u001b[49m\n\u001b[1;32m     21\u001b[0m     \u001b[38;5;28;01mif\u001b[39;00m treat_geom\u001b[38;5;241m.\u001b[39mIntersects(fire_poly):\n\u001b[1;32m     22\u001b[0m         intersection_ids\u001b[38;5;241m.\u001b[39mappend(treat_id)\n",
      "File \u001b[0;32m/srv/starter_content/_User-Persistent-Storage_/wired-utility/lib/python3.12/site-packages/osgeo/ogr.py:6343\u001b[0m, in \u001b[0;36mGeometry.Buffer\u001b[0;34m(self, *args, **kwargs)\u001b[0m\n\u001b[1;32m   6320\u001b[0m \u001b[38;5;28;01mdef\u001b[39;00m \u001b[38;5;21mBuffer\u001b[39m(\u001b[38;5;28mself\u001b[39m, \u001b[38;5;241m*\u001b[39margs, \u001b[38;5;241m*\u001b[39m\u001b[38;5;241m*\u001b[39mkwargs):\n\u001b[1;32m   6321\u001b[0m \u001b[38;5;250m    \u001b[39m\u001b[38;5;124mr\u001b[39m\u001b[38;5;124;03m\"\"\"\u001b[39;00m\n\u001b[1;32m   6322\u001b[0m \u001b[38;5;124;03m    Buffer(Geometry self, double distance, int quadsecs=30) -> Geometry\u001b[39;00m\n\u001b[1;32m   6323\u001b[0m \n\u001b[0;32m   (...)\u001b[0m\n\u001b[1;32m   6341\u001b[0m \n\u001b[1;32m   6342\u001b[0m \u001b[38;5;124;03m    \"\"\"\u001b[39;00m\n\u001b[0;32m-> 6343\u001b[0m     \u001b[38;5;28;01mreturn\u001b[39;00m \u001b[43m_ogr\u001b[49m\u001b[38;5;241;43m.\u001b[39;49m\u001b[43mGeometry_Buffer\u001b[49m\u001b[43m(\u001b[49m\u001b[38;5;28;43mself\u001b[39;49m\u001b[43m,\u001b[49m\u001b[43m \u001b[49m\u001b[38;5;241;43m*\u001b[39;49m\u001b[43margs\u001b[49m\u001b[43m,\u001b[49m\u001b[43m \u001b[49m\u001b[38;5;241;43m*\u001b[39;49m\u001b[38;5;241;43m*\u001b[39;49m\u001b[43mkwargs\u001b[49m\u001b[43m)\u001b[49m\n",
      "\u001b[0;31mKeyboardInterrupt\u001b[0m: "
     ]
    }
   ],
   "source": [
    "get_treatment_intersections(fires.index[0], 20)"
   ]
  },
  {
   "cell_type": "code",
   "execution_count": 16,
   "id": "186edda5-e40b-4dc1-ac97-f24eef7b9d7c",
   "metadata": {},
   "outputs": [
    {
     "data": {
      "text/plain": [
       "Timestamp('2022-05-24 00:00:00')"
      ]
     },
     "execution_count": 16,
     "metadata": {},
     "output_type": "execute_result"
    }
   ],
   "source": [
    "fires.loc[objectid]['alarm_date']"
   ]
  },
  {
   "cell_type": "code",
   "execution_count": 25,
   "id": "fff5507a-67f5-4a35-8366-4d2c2cc41171",
   "metadata": {},
   "outputs": [],
   "source": [
    "from time import sleep"
   ]
  },
  {
   "cell_type": "code",
   "execution_count": 47,
   "id": "92f6e6fc-d0ee-4b1c-8b10-167cbbc3ff86",
   "metadata": {},
   "outputs": [],
   "source": [
    "def get_feature_intersections(objectid, fire_poly, treatments, add_buffer, buffer_distance=20):\n",
    "    intersection_ids = []\n",
    "    intersection_geoms = []\n",
    "    num_intersections = 0\n",
    "    for treat_id, treat_row in treats_valid_date.iterrows():\n",
    "        treat_poly = ogr.CreateGeometryFromWkt(treat_row['geometry'].wkt)\n",
    "        if add_buffer:\n",
    "            treat_poly = treat_poly.Buffer(buffer_distance)\n",
    "        if treat_poly.Intersects(fire_poly):\n",
    "            intersection_ids.append(treat_id)\n",
    "            intersection_geoms.append(treat_poly)\n",
    "            num_intersections += 1\n",
    "    poly_data = [[objectid, intersection_ids[i], intersection_geoms[i].Intersection(fire_poly)] for i in range(num_intersections)]\n",
    "    int_df = gpd.GeoDataFrame(int_data, columns=['fire_objectid', 'treat_globalid', 'intersection'])\n",
    "    return int_df\n",
    "    \n",
    "def get_all_intersections(objectid):\n",
    "    fire = fires.loc[objectid]\n",
    "    alarm_date = fire['alarm_date']\n",
    "    fire_poly = ogr.CreateGeometryFromWkt(fire['geometry'].wkt)\n",
    "    fire_intersects = lambda geom: fire_poly.Intersects(geom)\n",
    "    int_dfs = []\n",
    "    for item in treats:\n",
    "        feature = item['table']\n",
    "        print(type(feature))\n",
    "        print(feature.columns)\n",
    "        print(feature['activity_end'] < alarm_date)\n",
    "        idxs = feature['activity_end'] < alarm_date\n",
    "        treats_valid_date = feature[idxs]\n",
    "        add_buffer = item['add_buffer']\n",
    "        int_dfs.append(get_feature_intersections(objectid, fire_poly, treats_valid_date, add_buffer))\n",
    "    return gpd.concatenate(int_dfs)"
   ]
  },
  {
   "cell_type": "code",
   "execution_count": 48,
   "id": "e851a172-57f6-4ec1-bae4-a81f8668f190",
   "metadata": {},
   "outputs": [
    {
     "name": "stdout",
     "output_type": "stream",
     "text": [
      "<class 'geopandas.geodataframe.GeoDataFrame'>\n",
      "Index(['geometry', 'agency', 'county', 'activity_description',\n",
      "       'activity_quantity', 'broad_vegetation_type', 'activity_end',\n",
      "       'entity_type', 'administering_org', 'primary_ownership_group',\n",
      "       'activity_uom', 'activity_cat', 'region', 'objectid',\n",
      "       'activity_status'],\n",
      "      dtype='object')\n",
      "globalid\n",
      "{5CB5D324-ADC4-4533-8C3E-21C708858EE0}     True\n",
      "{04E086B0-5A46-4F6C-9BE4-61A7020AE4A4}     True\n",
      "{3951AE08-91D6-4781-8956-64459F20C442}     True\n",
      "{11B106B0-B047-47A1-B693-501028652B51}     True\n",
      "{770EC70F-1B22-4F9E-9B9D-038FA7C29F70}     True\n",
      "                                          ...  \n",
      "{075B887E-6532-4F96-AC89-6B6F4F4C076D}     True\n",
      "{63BE246A-3920-4FAB-8897-EDAFDB3C85BF}     True\n",
      "{36B8AECA-2114-4C8B-BDBB-DC36934D3D27}     True\n",
      "{162B3CE7-0B51-48B3-B1CD-59FA816AEEE0}     True\n",
      "{60E04E98-25D7-4BC0-94F6-768D9A5CDBC7}    False\n",
      "Name: activity_end, Length: 807, dtype: bool\n",
      "<class 'geopandas.geodataframe.GeoDataFrame'>\n",
      "RangeIndex(start=0, stop=0, step=1)\n"
     ]
    },
    {
     "ename": "KeyError",
     "evalue": "'activity_end'",
     "output_type": "error",
     "traceback": [
      "\u001b[0;31m---------------------------------------------------------------------------\u001b[0m",
      "\u001b[0;31mKeyError\u001b[0m                                  Traceback (most recent call last)",
      "Cell \u001b[0;32mIn[48], line 2\u001b[0m\n\u001b[1;32m      1\u001b[0m objectid \u001b[38;5;241m=\u001b[39m fires\u001b[38;5;241m.\u001b[39mindex[\u001b[38;5;241m6\u001b[39m]\n\u001b[0;32m----> 2\u001b[0m \u001b[43mget_all_intersections\u001b[49m\u001b[43m(\u001b[49m\u001b[43mobjectid\u001b[49m\u001b[43m)\u001b[49m\n",
      "Cell \u001b[0;32mIn[47], line 27\u001b[0m, in \u001b[0;36mget_all_intersections\u001b[0;34m(objectid)\u001b[0m\n\u001b[1;32m     25\u001b[0m \u001b[38;5;28mprint\u001b[39m(\u001b[38;5;28mtype\u001b[39m(feature))\n\u001b[1;32m     26\u001b[0m \u001b[38;5;28mprint\u001b[39m(feature\u001b[38;5;241m.\u001b[39mcolumns)\n\u001b[0;32m---> 27\u001b[0m \u001b[38;5;28mprint\u001b[39m(\u001b[43mfeature\u001b[49m\u001b[43m[\u001b[49m\u001b[38;5;124;43m'\u001b[39;49m\u001b[38;5;124;43mactivity_end\u001b[39;49m\u001b[38;5;124;43m'\u001b[39;49m\u001b[43m]\u001b[49m \u001b[38;5;241m<\u001b[39m alarm_date)\n\u001b[1;32m     28\u001b[0m idxs \u001b[38;5;241m=\u001b[39m feature[\u001b[38;5;124m'\u001b[39m\u001b[38;5;124mactivity_end\u001b[39m\u001b[38;5;124m'\u001b[39m] \u001b[38;5;241m<\u001b[39m alarm_date\n\u001b[1;32m     29\u001b[0m treats_valid_date \u001b[38;5;241m=\u001b[39m feature[idxs]\n",
      "File \u001b[0;32m/srv/starter_content/_User-Persistent-Storage_/wired-utility/lib/python3.12/site-packages/geopandas/geodataframe.py:1459\u001b[0m, in \u001b[0;36mGeoDataFrame.__getitem__\u001b[0;34m(self, key)\u001b[0m\n\u001b[1;32m   1453\u001b[0m \u001b[38;5;28;01mdef\u001b[39;00m \u001b[38;5;21m__getitem__\u001b[39m(\u001b[38;5;28mself\u001b[39m, key):\n\u001b[1;32m   1454\u001b[0m \u001b[38;5;250m    \u001b[39m\u001b[38;5;124;03m\"\"\"\u001b[39;00m\n\u001b[1;32m   1455\u001b[0m \u001b[38;5;124;03m    If the result is a column containing only 'geometry', return a\u001b[39;00m\n\u001b[1;32m   1456\u001b[0m \u001b[38;5;124;03m    GeoSeries. If it's a DataFrame with any columns of GeometryDtype,\u001b[39;00m\n\u001b[1;32m   1457\u001b[0m \u001b[38;5;124;03m    return a GeoDataFrame.\u001b[39;00m\n\u001b[1;32m   1458\u001b[0m \u001b[38;5;124;03m    \"\"\"\u001b[39;00m\n\u001b[0;32m-> 1459\u001b[0m     result \u001b[38;5;241m=\u001b[39m \u001b[38;5;28;43msuper\u001b[39;49m\u001b[43m(\u001b[49m\u001b[43m)\u001b[49m\u001b[38;5;241;43m.\u001b[39;49m\u001b[38;5;21;43m__getitem__\u001b[39;49m\u001b[43m(\u001b[49m\u001b[43mkey\u001b[49m\u001b[43m)\u001b[49m\n\u001b[1;32m   1460\u001b[0m     \u001b[38;5;66;03m# Custom logic to avoid waiting for pandas GH51895\u001b[39;00m\n\u001b[1;32m   1461\u001b[0m     \u001b[38;5;66;03m# result is not geometry dtype for multi-indexes\u001b[39;00m\n\u001b[1;32m   1462\u001b[0m     \u001b[38;5;28;01mif\u001b[39;00m (\n\u001b[1;32m   1463\u001b[0m         pd\u001b[38;5;241m.\u001b[39mapi\u001b[38;5;241m.\u001b[39mtypes\u001b[38;5;241m.\u001b[39mis_scalar(key)\n\u001b[1;32m   1464\u001b[0m         \u001b[38;5;129;01mand\u001b[39;00m key \u001b[38;5;241m==\u001b[39m \u001b[38;5;124m\"\u001b[39m\u001b[38;5;124m\"\u001b[39m\n\u001b[0;32m   (...)\u001b[0m\n\u001b[1;32m   1467\u001b[0m         \u001b[38;5;129;01mand\u001b[39;00m \u001b[38;5;129;01mnot\u001b[39;00m is_geometry_type(result)\n\u001b[1;32m   1468\u001b[0m     ):\n",
      "File \u001b[0;32m/srv/starter_content/_User-Persistent-Storage_/wired-utility/lib/python3.12/site-packages/pandas/core/frame.py:4102\u001b[0m, in \u001b[0;36mDataFrame.__getitem__\u001b[0;34m(self, key)\u001b[0m\n\u001b[1;32m   4100\u001b[0m \u001b[38;5;28;01mif\u001b[39;00m \u001b[38;5;28mself\u001b[39m\u001b[38;5;241m.\u001b[39mcolumns\u001b[38;5;241m.\u001b[39mnlevels \u001b[38;5;241m>\u001b[39m \u001b[38;5;241m1\u001b[39m:\n\u001b[1;32m   4101\u001b[0m     \u001b[38;5;28;01mreturn\u001b[39;00m \u001b[38;5;28mself\u001b[39m\u001b[38;5;241m.\u001b[39m_getitem_multilevel(key)\n\u001b[0;32m-> 4102\u001b[0m indexer \u001b[38;5;241m=\u001b[39m \u001b[38;5;28;43mself\u001b[39;49m\u001b[38;5;241;43m.\u001b[39;49m\u001b[43mcolumns\u001b[49m\u001b[38;5;241;43m.\u001b[39;49m\u001b[43mget_loc\u001b[49m\u001b[43m(\u001b[49m\u001b[43mkey\u001b[49m\u001b[43m)\u001b[49m\n\u001b[1;32m   4103\u001b[0m \u001b[38;5;28;01mif\u001b[39;00m is_integer(indexer):\n\u001b[1;32m   4104\u001b[0m     indexer \u001b[38;5;241m=\u001b[39m [indexer]\n",
      "File \u001b[0;32m/srv/starter_content/_User-Persistent-Storage_/wired-utility/lib/python3.12/site-packages/pandas/core/indexes/range.py:417\u001b[0m, in \u001b[0;36mRangeIndex.get_loc\u001b[0;34m(self, key)\u001b[0m\n\u001b[1;32m    415\u001b[0m         \u001b[38;5;28;01mraise\u001b[39;00m \u001b[38;5;167;01mKeyError\u001b[39;00m(key) \u001b[38;5;28;01mfrom\u001b[39;00m \u001b[38;5;21;01merr\u001b[39;00m\n\u001b[1;32m    416\u001b[0m \u001b[38;5;28;01mif\u001b[39;00m \u001b[38;5;28misinstance\u001b[39m(key, Hashable):\n\u001b[0;32m--> 417\u001b[0m     \u001b[38;5;28;01mraise\u001b[39;00m \u001b[38;5;167;01mKeyError\u001b[39;00m(key)\n\u001b[1;32m    418\u001b[0m \u001b[38;5;28mself\u001b[39m\u001b[38;5;241m.\u001b[39m_check_indexing_error(key)\n\u001b[1;32m    419\u001b[0m \u001b[38;5;28;01mraise\u001b[39;00m \u001b[38;5;167;01mKeyError\u001b[39;00m(key)\n",
      "\u001b[0;31mKeyError\u001b[0m: 'activity_end'"
     ]
    }
   ],
   "source": [
    "objectid = fires.index[6]\n",
    "get_all_intersections(objectid)"
   ]
  },
  {
   "cell_type": "code",
   "execution_count": 28,
   "id": "564ef8ee-2f7e-459d-87a1-dd23a8eca94a",
   "metadata": {},
   "outputs": [
    {
     "name": "stdout",
     "output_type": "stream",
     "text": [
      "0 intersections with point data\n"
     ]
    },
    {
     "data": {
      "text/html": [
       "<div>\n",
       "<style scoped>\n",
       "    .dataframe tbody tr th:only-of-type {\n",
       "        vertical-align: middle;\n",
       "    }\n",
       "\n",
       "    .dataframe tbody tr th {\n",
       "        vertical-align: top;\n",
       "    }\n",
       "\n",
       "    .dataframe thead th {\n",
       "        text-align: right;\n",
       "    }\n",
       "</style>\n",
       "<table border=\"1\" class=\"dataframe\">\n",
       "  <thead>\n",
       "    <tr style=\"text-align: right;\">\n",
       "      <th></th>\n",
       "      <th>fire_objectid</th>\n",
       "      <th>treat_globalid</th>\n",
       "      <th>intersection</th>\n",
       "    </tr>\n",
       "  </thead>\n",
       "  <tbody>\n",
       "  </tbody>\n",
       "</table>\n",
       "</div>"
      ],
      "text/plain": [
       "Empty GeoDataFrame\n",
       "Columns: [fire_objectid, treat_globalid, intersection]\n",
       "Index: []"
      ]
     },
     "execution_count": 28,
     "metadata": {},
     "output_type": "execute_result"
    }
   ],
   "source": [
    "objectid = fires.index[6]\n",
    "buffer_distance=20\n",
    "add_buffer=True\n",
    "\n",
    "fire = fires.loc[objectid]\n",
    "alarm_date = fire['alarm_date']\n",
    "fire_poly = ogr.CreateGeometryFromWkt(fire['geometry'].wkt)\n",
    "\n",
    "#this might be useful for parallelism\n",
    "fire_intersects = lambda geom: fire_poly.Intersects(geom)\n",
    "            \n",
    "#look at line/point data\n",
    "lp_treats = pd.concat(treats[:2])\n",
    "intersection_ids = []\n",
    "intersection_geoms = []\n",
    "num_intersections = 0\n",
    "treats_valid_date = lp_treats[lp_treats['activity_end'] < alarm_date]\n",
    "for treat_id, treat_row in treats_valid_date.iterrows():\n",
    "    if (treat_row.loc['activity_end'] < alarm_date):\n",
    "        treat_poly = ogr.CreateGeometryFromWkt(treat_row['geometry'].wkt)\n",
    "        if (add_buffer):\n",
    "            treat_poly = treat_poly.Buffer(buffer_distance)\n",
    "        if treat_geom.Intersects(fire_poly):\n",
    "            intersection_ids.append(treat_id)\n",
    "            intersection_geoms.append(treat_geom)\n",
    "            num_intersections += 1\n",
    "            print(num_intersections)\n",
    "print(num_intersections, \"intersections with point data\")\n",
    "int_data = [[objectid, intersection_ids[i], intersection_geoms[i].Intersection(fire_poly)] for i in range(num_intersections)]\n",
    "int_df = gpd.GeoDataFrame(int_data, columns=['fire_objectid', 'treat_globalid', 'intersection'])\n",
    "int_df"
   ]
  },
  {
   "cell_type": "code",
   "execution_count": null,
   "id": "f144b9c9-4bd5-422c-87b5-32003254dfdc",
   "metadata": {},
   "outputs": [],
   "source": []
  }
 ],
 "metadata": {
  "kernelspec": {
   "display_name": "wired-utility",
   "language": "python",
   "name": "wired-utility"
  },
  "language_info": {
   "codemirror_mode": {
    "name": "ipython",
    "version": 3
   },
   "file_extension": ".py",
   "mimetype": "text/x-python",
   "name": "python",
   "nbconvert_exporter": "python",
   "pygments_lexer": "ipython3",
   "version": "3.12.3"
  }
 },
 "nbformat": 4,
 "nbformat_minor": 5
}
