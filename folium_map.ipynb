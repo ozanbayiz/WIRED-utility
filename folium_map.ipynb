{
 "cells": [
  {
   "cell_type": "code",
   "execution_count": 1,
   "id": "7438dfe7-bf95-4cb5-a8fb-79a34dd01c70",
   "metadata": {
    "scrolled": true
   },
   "outputs": [],
   "source": [
    "import numpy as np\n",
    "import geopandas as gpd\n",
    "import rasterio\n",
    "import folium\n",
    "from folium.plugins import HeatMap\n",
    "from folium.plugins.treelayercontrol import TreeLayerControl\n",
    "from folium.raster_layers import WmsTileLayer, ImageOverlay\n",
    "from tqdm import tqdm # impatient\n",
    "# was using rasterio to create raster heatmap, may still be used but not sure\n",
    "from rasterio.features import rasterize\n",
    "from rasterio.plot import reshape_as_image\n",
    "from rasterio.warp import calculate_default_transform, reproject\n",
    "import matplotlib.pyplot as plt\n",
    "from PIL import Image\n",
    "import tempfile"
   ]
  },
  {
   "cell_type": "code",
   "execution_count": 2,
   "id": "0504bd6a-c06b-4587-8663-efb0f744739f",
   "metadata": {},
   "outputs": [],
   "source": [
    "GEOSERVER_URL = \"https://sparcal.sdsc.edu/geoserver/rrk_sn/wms?\"\n",
    "# directory information for local data\n",
    "DATA_DIR = \"data/\"\n",
    "UTILS_DIR = \"utils/\"\n",
    "SN_DIR = DATA_DIR + \"sierra_nevada/\"\n",
    "# pathnames\n",
    "IGNITION_PATH = SN_DIR + \"sierra_nevada_fire_ignitions.geojson\"\n",
    "PERIMETER_PATH = SN_DIR + \"sierra_nevada_fire_perimeters.geojson\"\n",
    "UTILITY_PATH = SN_DIR + \"sierra_nevada_utility_lines.geojson\"\n",
    "SN_SHAPE_PATH = UTILS_DIR + \"sierra_nevada_boundary.geojson\"\n",
    "SN_SHAPE = gpd.read_file(SN_SHAPE_PATH).to_crs(epsg=4326)['geometry']"
   ]
  },
  {
   "cell_type": "markdown",
   "id": "fd42a29d",
   "metadata": {},
   "source": [
    "# Fire/Utility Data\n"
   ]
  },
  {
   "cell_type": "code",
   "execution_count": 3,
   "id": "db605635-b7bd-4334-83c6-366a0f8984c3",
   "metadata": {},
   "outputs": [
    {
     "name": "stderr",
     "output_type": "stream",
     "text": [
      "/opt/anaconda3/envs/wired-utility/lib/python3.12/site-packages/geopandas/io/file.py:399: FutureWarning: errors='ignore' is deprecated and will raise in a future version. Use to_datetime without passing `errors` and catch exceptions explicitly instead\n",
      "  as_dt = pd.to_datetime(df[k], errors=\"ignore\")\n",
      "/opt/anaconda3/envs/wired-utility/lib/python3.12/site-packages/geopandas/io/file.py:399: FutureWarning: errors='ignore' is deprecated and will raise in a future version. Use to_datetime without passing `errors` and catch exceptions explicitly instead\n",
      "  as_dt = pd.to_datetime(df[k], errors=\"ignore\")\n"
     ]
    }
   ],
   "source": [
    "# read in utility data\n",
    "utility_df = gpd.read_file(UTILITY_PATH).to_crs(epsg=4326)\n",
    "# read in fire perimeter data\n",
    "utility_perimeter_df = gpd.read_file(PERIMETER_PATH).to_crs(epsg=4326) # fire perimeters intersecting with utility lines\n",
    "all_perimeter_df = gpd.read_file(\"./data/all_sn_fire_perimeters.geojson\") # all fire perimeters\n",
    "for column in all_perimeter_df.select_dtypes(include=['datetime', 'datetime64']).columns:\n",
    "    all_perimeter_df[column] = all_perimeter_df[column].astype(str)\n",
    "# read in ignition data\n",
    "ignition_df = gpd.read_file(IGNITION_PATH).to_crs(epsg=4326)    \n",
    "buffered_ignition_df = gpd.read_file(IGNITION_PATH) # TODO: optimize for memory (redundant data)\n",
    "buffered_ignition_df['geometry'] = buffered_ignition_df.buffer(500)\n",
    "buffered_ignition = buffered_ignition_df.to_crs(epsg=4326)"
   ]
  },
  {
   "cell_type": "code",
   "execution_count": 4,
   "id": "5dd36ab4",
   "metadata": {},
   "outputs": [],
   "source": [
    "# folium layer for utility lines\n",
    "utility_layer = folium.GeoJson(\n",
    "    utility_df, \n",
    "    name=\"Transmission Lines\",\n",
    "    control=False\n",
    ")\n",
    "# Fire Perimeters\n",
    "def perimeter_style(feature): # style\n",
    "    color = 'red'\n",
    "    opacity = 0.2\n",
    "    return {\n",
    "        'fillColor': color,\n",
    "        'color': color,\n",
    "        'weight': 4,\n",
    "        'fillOpacity': opacity,\n",
    "        'opacity': opacity,\n",
    "    }\n",
    "perimeter_layer = folium.GeoJson(\n",
    "    all_perimeter_df,\n",
    "    name=\"Fire Perimeters\",\n",
    "    style_function=perimeter_style\n",
    ")\n",
    "# Fire Ignition Points\n",
    "def ignition_style(feature): # style\n",
    "    color = 'brown'\n",
    "    opacity = 0.3\n",
    "    return {\n",
    "        'fillColor': color,\n",
    "        'color': color,\n",
    "        'weight': 4,\n",
    "        'fillOpacity': opacity,\n",
    "        'opacity': opacity,\n",
    "    }\n",
    "ignition_layer = folium.GeoJson(\n",
    "    buffered_ignition_df,\n",
    "    name=\"Fire Ignition Points\",\n",
    "    style_function=ignition_style,\n",
    "    #marker=folium.CircleMarker(),\n",
    ")\n",
    "# Folium Heatmap for Ignition Points (unused but here's the code)\n",
    "\"\"\" ignition_df['LATITUDE'] = ignition_df.geometry.y\n",
    "ignition_df['LONGITUDE'] = ignition_df.geometry.x\n",
    "ignition_coords = ignition_df[['LATITUDE', 'LONGITUDE']].values.tolist()\n",
    "ignition_heatmap_layer = HeatMap(\n",
    "    ignition_coords,\n",
    "    name=\"Ignition Points\",\n",
    "    max_zoom=10,\n",
    "    ) \"\"\"\n",
    "\n",
    "# Heatmaps with Vector To Heatmap Overlay Function\n",
    "\"\"\"\n",
    "perimeter_heatmap = vector_to_heatmap_overlay(perimeter_df['geometry'], \"Fire Perimeters\")\n",
    "ignition_heatmap = vector_to_heatmap_overlay(buffered_ignition, \"Fire Ignition Points\")\n",
    "sn_raster = vector_to_heatmap_overlay([SN_SHAPE], \"Sierra Nevada Raster\", cmap_name='viridis')\n",
    "\"\"\"\n",
    "\n",
    "# save all to list\n",
    "fire_layers = [\n",
    "    {'label': 'Fire Perimeters', 'layer': perimeter_layer},\n",
    "    {'label': 'Fire Ignition Points','layer': ignition_layer}\n",
    "]"
   ]
  },
  {
   "cell_type": "markdown",
   "id": "2f93b90f",
   "metadata": {},
   "source": [
    "# Geoserver Layers\n",
    "RRK link: https://rrk.sdsc.edu/sierra.html\n",
    "\n",
    "Geoserver Link: https://sparcal.sdsc.edu/geoserver/web/wicket/bookmarkable/org.geoserver.web.demo.MapPreviewPage?0&filter=false"
   ]
  },
  {
   "cell_type": "code",
   "execution_count": 16,
   "id": "10f58f52",
   "metadata": {},
   "outputs": [],
   "source": [
    "carbon_layers = []\n",
    "carbon_layer_info = {\n",
    "    'Dead Carbon':'rrk_sn:DeadCarbon_2021',\n",
    "    'Total Carbon':'rrk_sn:CECS_TotalCarbon_30m',\n",
    "    'Aboveground Live Tree Carbon':'rrk_sn:F3_AbovegroundLiveTreeCarbon_2021',\n",
    "    'Total Aboveground Carbon':'rrk_sn:CECS_TotalCarbon_30m'\n",
    "}\n",
    "for layer_name in carbon_layer_info:\n",
    "    layer = WmsTileLayer(\n",
    "        url=GEOSERVER_URL,\n",
    "        layers=carbon_layer_info[layer_name],\n",
    "        name=layer_name,\n",
    "        transparent=True,\n",
    "        fmt=\"image/png8\",\n",
    "        overlay=True,\n",
    "        control=True,\n",
    "        show=False,\n",
    "        tiled=True,\n",
    "        opacity=0.5,\n",
    "    )\n",
    "    layer_dict = {'label': layer_name, 'layer': layer}\n",
    "    carbon_layers.append(layer_dict)"
   ]
  },
  {
   "cell_type": "markdown",
   "id": "5d38b969",
   "metadata": {},
   "source": [
    "# The Map"
   ]
  },
  {
   "cell_type": "code",
   "execution_count": 18,
   "id": "61089a47-377f-4307-90f1-fd406bbf6113",
   "metadata": {},
   "outputs": [],
   "source": [
    "min_lon, min_lat, max_lon, max_lat = SN_SHAPE[0].bounds\n",
    "center = SN_SHAPE[0].centroid\n",
    "map_center = [center.y, center.x]\n",
    "\n",
    "m = folium.Map(\n",
    "    location=map_center, \n",
    "    tiles=\"CartoDB Positron\", \n",
    "    zoom_start=8,\n",
    "    control_scale=True,\n",
    "    min_lat=min_lat, # does this do anything?\n",
    "    max_lat=max_lat,\n",
    "    min_lon=min_lon,\n",
    "    max_lon=max_lon,\n",
    ")\n",
    "\n",
    "\"\"\" #kind of an eyesore\n",
    "folium.CircleMarker([max_lat, min_lon], tooltip=\"Upper Left Corner\", color=\"green\").add_to(m)\n",
    "folium.CircleMarker([min_lat, min_lon], tooltip=\"Lower Left Corner\").add_to(m)\n",
    "folium.CircleMarker([min_lat, max_lon], tooltip=\"Lower Right Corner\").add_to(m)\n",
    "folium.CircleMarker([max_lat, max_lon], tooltip=\"Upper Right Corner\").add_to(m) \"\"\"\n",
    "\n",
    "utility_layer.add_to(m)\n",
    "layers = fire_layers + carbon_layers\n",
    "for layer in layers:\n",
    "    layer['layer'].add_to(m)\n",
    "\n",
    "overlay_tree = [\n",
    "    {'label': 'Fire Layers', 'children': fire_layers},\n",
    "    {'label': 'Carbon Layers', 'children': carbon_layers}\n",
    "]\n",
    "\n",
    "#folium.GeoJson(SN_SHAPE, name=\"Sierra Nevada Region\").add_to(m)\n",
    "TreeLayerControl(overlay_tree=overlay_tree).add_to(m)\n",
    "m.save('map.html')\n",
    "display(m)"
   ]
  }
 ],
 "metadata": {
  "kernelspec": {
   "display_name": "wired-utility",
   "language": "python",
   "name": "python3"
  },
  "language_info": {
   "codemirror_mode": {
    "name": "ipython",
    "version": 3
   },
   "file_extension": ".py",
   "mimetype": "text/x-python",
   "name": "python",
   "nbconvert_exporter": "python",
   "pygments_lexer": "ipython3",
   "version": "3.12.3"
  }
 },
 "nbformat": 4,
 "nbformat_minor": 5
}
