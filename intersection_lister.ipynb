{
 "cells": [
  {
   "cell_type": "markdown",
   "id": "fa186ca7-4b86-4db2-a8a6-a92d82359dbb",
   "metadata": {},
   "source": [
    "Tiles []\n",
    "Bounding box for intersections []\n",
    "Loop through tiles and check if bounding boxes collide\n",
    "List out to a file all of the bounding boxes for intersections that collide with tiles."
   ]
  },
  {
   "cell_type": "code",
   "execution_count": null,
   "id": "8eea493a-ef68-440d-8aee-090bf33ab14b",
   "metadata": {},
   "outputs": [],
   "source": [
    "Understanding my code more and validation check everything \n",
    "fourth attempt v"
   ]
  },
  {
   "cell_type": "code",
   "execution_count": 1,
   "id": "8d6d4f6c-ad0b-45bd-820a-0d1d365b5c4a",
   "metadata": {},
   "outputs": [],
   "source": [
    "import geopandas as gpd\n",
    "import json\n",
    "import rasterio\n",
    "from rasterio.warp import transform_bounds\n",
    "from osgeo import ogr, osr\n",
    "import os\n",
    "import csv"
   ]
  },
  {
   "cell_type": "code",
   "execution_count": 2,
   "id": "442acbc1-eac9-4fa7-85b1-1a9f4391ab9b",
   "metadata": {},
   "outputs": [],
   "source": [
    "# Directory containing the .tiff files\n",
    "DATA_DIR = \"./data/\"\n",
    "tif_folder = DATA_DIR + \"B5/\"\n",
    "\n",
    "# Load the GeoJSON file\n",
    "with open('./Transmission_Line_1604355110918241857.geojson') as f:\n",
    "    data = json.load(f)\n",
    "\n",
    "# Create a GeoDataFrame from the GeoJSON data\n",
    "gdf = gpd.GeoDataFrame.from_features(data['features'], crs='EPSG:4269')\n",
    "\n",
    "# Obtain the bounding boxes\n",
    "bounding_boxes = gdf.bounds\n",
    "\n",
    "# Target CRS (EPSG code of GeoJSON data)\n",
    "target_crs = 'EPSG:32614'\n",
    "\n",
    "# List to store bounding boxes of tiles as OGR Geometry objects\n",
    "tiles = []"
   ]
  },
  {
   "cell_type": "code",
   "execution_count": 3,
   "id": "ca9766bc-1097-4715-abe3-d03e9cf1c16e",
   "metadata": {},
   "outputs": [
    {
     "name": "stdout",
     "output_type": "stream",
     "text": [
      "Checking '              minx          miny          maxx          maxy\n",
      "0    -1.360804e+07  4.545689e+06 -1.360485e+07  4.547327e+06\n",
      "1    -1.361356e+07  4.547254e+06 -1.360804e+07  4.548298e+06\n",
      "2    -1.361343e+07  4.548276e+06 -1.361324e+07  4.549615e+06\n",
      "3    -1.361313e+07  4.549619e+06 -1.361173e+07  4.550724e+06\n",
      "4    -1.300083e+07  3.963888e+06 -1.298179e+07  3.989232e+06\n",
      "...            ...           ...           ...           ...\n",
      "6834 -1.340772e+07  4.532550e+06 -1.340720e+07  4.532861e+06\n",
      "6835 -1.340771e+07  4.532568e+06 -1.340716e+07  4.532891e+06\n",
      "6836 -1.346811e+07  4.516440e+06 -1.345261e+07  4.522351e+06\n",
      "6837 -1.346811e+07  4.516440e+06 -1.345261e+07  4.522351e+06\n",
      "6838 -1.358993e+07  4.611654e+06 -1.358558e+07  4.614082e+06\n",
      "\n",
      "[6839 rows x 4 columns]'...\n",
      "\n",
      "Checking '[]'...\n",
      "\n"
     ]
    }
   ],
   "source": [
    "print(f\"Checking '{bounding_boxes}'...\")\n",
    "print(\"\")\n",
    "print(f\"Checking '{tiles}'...\")\n",
    "print(\"\")"
   ]
  },
  {
   "cell_type": "code",
   "execution_count": 4,
   "id": "cd111856-65f3-455f-ac11-d7996190d7f1",
   "metadata": {},
   "outputs": [],
   "source": [
    "# Function to create OGR Geometry object from bounding box\n",
    "def create_ogr_geometry(minx, miny, maxx, maxy):\n",
    "    ring = ogr.Geometry(ogr.wkbLinearRing)\n",
    "    ring.AddPoint(minx, miny)\n",
    "    ring.AddPoint(maxx, miny)\n",
    "    ring.AddPoint(maxx, maxy)\n",
    "    ring.AddPoint(minx, maxy)\n",
    "    ring.AddPoint(minx, miny)\n",
    "    polygon = ogr.Geometry(ogr.wkbPolygon)\n",
    "    polygon.AddGeometry(ring)\n",
    "    return polygon"
   ]
  },
  {
   "cell_type": "code",
   "execution_count": 5,
   "id": "40e1eabe-c295-4e9d-a74f-f76a57896a81",
   "metadata": {},
   "outputs": [],
   "source": [
    "# Function to reproject bounding box coordinates\n",
    "#plotlly and matplotlib\n",
    "#plot everything before and after\n",
    "def reproject_bounds(src_bounds, src_crs, dst_crs):\n",
    "    minx, miny, maxx, maxy = src_bounds\n",
    "    dst_minx, dst_miny, dst_maxx, dst_maxy = transform_bounds(\n",
    "        src_crs, dst_crs, minx, miny, maxx, maxy\n",
    "    )\n",
    "    return dst_minx, dst_miny, dst_maxx, dst_maxy"
   ]
  },
  {
   "cell_type": "code",
   "execution_count": 6,
   "id": "1feca2ac-814b-4964-811a-a9643c69432d",
   "metadata": {
    "collapsed": true,
    "jupyter": {
     "outputs_hidden": true
    },
    "scrolled": true
   },
   "outputs": [
    {
     "name": "stdout",
     "output_type": "stream",
     "text": [
      "Opening './data/B5/LC08_L2SP_039035_20240513_20240521_02_T1_SR_B5.TIF'...\n",
      "POLYGON Z ((-1068768.32130903 3968394.24856558 0,-795124.606744511 3968394.24856558 0,-795124.606744511 4245453.73485258 0,-1068768.32130903 4245453.73485258 0,-1068768.32130903 3968394.24856558 0)) \n",
      "\n",
      "Opening './data/B5/LC08_L2SP_039036_20240513_20240521_02_T1_SR_B5.TIF'...\n",
      "POLYGON Z ((-1133116.57901433 3813735.74931211 0,-859628.791997485 3813735.74931211 0,-859628.791997485 4090679.45046075 0,-1133116.57901433 4090679.45046075 0,-1133116.57901433 3813735.74931211 0)) \n",
      "\n",
      "Opening './data/B5/LC08_L2SP_039037_20240513_20240521_02_T1_SR_B5.TIF'...\n",
      "POLYGON Z ((-1197196.53677373 3658716.97697197 0,-923885.441892183 3658716.97697197 0,-923885.441892183 3935524.98132793 0,-1197196.53677373 3935524.98132793 0,-1197196.53677373 3658716.97697197 0)) \n",
      "\n",
      "Opening './data/B5/LC08_L2SP_041034_20240511_20240520_02_T1_SR_B5.TIF'...\n",
      "POLYGON Z ((-1285656.00755186 4169331.05518694 0,-1003108.96753288 4169331.05518694 0,-1003108.96753288 4455280.27538184 0,-1285656.00755186 4455280.27538184 0,-1285656.00755186 4169331.05518694 0)) \n",
      "\n",
      "Opening './data/B5/LC08_L2SP_041035_20240511_20240520_02_T1_SR_B5.TIF'...\n",
      "POLYGON Z ((-1356472.8455478 4016216.09752013 0,-1073674.54582842 4016216.09752013 0,-1073674.54582842 4301963.6699876 0,-1356472.8455478 4301963.6699876 0,-1356472.8455478 4016216.09752013 0)) \n",
      "\n",
      "Opening './data/B5/LC08_L2SP_041036_20240511_20240520_02_T1_SR_B5.TIF'...\n",
      "POLYGON Z ((-1426609.95870831 3862063.87843226 0,-1144077.98331552 3862063.87843226 0,-1144077.98331552 4148080.16888862 0,-1426609.95870831 4148080.16888862 0,-1426609.95870831 3862063.87843226 0)) \n",
      "\n",
      "Opening './data/B5/LC08_L2SP_043031_20240509_20240514_02_T1_SR_B5.TIF'...\n",
      "POLYGON Z ((-1334359.17820608 4679020.92510438 0,-1042361.54289319 4679020.92510438 0,-1042361.54289319 4973848.60845479 0,-1334359.17820608 4973848.60845479 0,-1334359.17820608 4679020.92510438 0)) \n",
      "\n",
      "Opening './data/B5/LC08_L2SP_043032_20240509_20240514_02_T1_SR_B5.TIF'...\n",
      "POLYGON Z ((-1412728.30797163 4528950.80656806 0,-1120511.26151541 4528950.80656806 0,-1120511.26151541 4824031.07237281 0,-1412728.30797163 4824031.07237281 0,-1412728.30797163 4528950.80656806 0)) \n",
      "\n",
      "Opening './data/B5/LC08_L2SP_044031_20240516_20240521_02_T1_SR_B5.TIF'...\n",
      "POLYGON Z ((-1464620.5631187 4709257.94836143 0,-1167769.28724523 4709257.94836143 0,-1167769.28724523 5008836.20746265 0,-1464620.5631187 5008836.20746265 0,-1464620.5631187 4709257.94836143 0)) \n",
      "\n",
      "Opening './data/B5/LC08_L2SP_044032_20240516_20240521_02_T1_SR_B5.TIF'...\n",
      "POLYGON Z ((-1546282.55731291 4559934.44775066 0,-1248834.84722753 4559934.44775066 0,-1248834.84722753 4859941.7056988 0,-1546282.55731291 4859941.7056988 0,-1546282.55731291 4559934.44775066 0)) \n",
      "\n",
      "Opening './data/B5/LC08_L2SP_044033_20240516_20240521_02_T1_SR_B5.TIF'...\n",
      "POLYGON Z ((-1627526.19954951 4409402.03633371 0,-1330019.28732664 4409402.03633371 0,-1330019.28732664 4709951.45696693 0,-1627526.19954951 4709951.45696693 0,-1627526.19954951 4409402.03633371 0)) \n",
      "\n",
      "Opening './data/B5/LC08_L2SP_046032_20240530_20240611_02_T1_SR_B5.TIF'...\n",
      "POLYGON Z ((-1815593.82785067 4629513.68626586 0,-1506991.95430212 4629513.68626586 0,-1506991.95430212 4940688.01375692 0,-1815593.82785067 4940688.01375692 0,-1815593.82785067 4629513.68626586 0)) \n",
      "\n",
      "Opening './data/B5/LC08_L2SP_046033_20240530_20240611_02_T1_SR_B5.TIF'...\n",
      "POLYGON Z ((-1903892.40411912 4480599.26677937 0,-1594776.46668649 4480599.26677937 0,-1594776.46668649 4792334.14868369 0,-1903892.40411912 4792334.14868369 0,-1903892.40411912 4480599.26677937 0)) \n",
      "\n",
      "Opening './data/B5/LC09_L2SP_038036_20240530_20240531_02_T1_SR_B5.TIF'...\n",
      "POLYGON Z ((-987231.446319908 3794474.96926653 0,-719794.718246851 3794474.96926653 0,-719794.718246851 4065112.60219703 0,-987231.446319908 4065112.60219703 0,-987231.446319908 3794474.96926653 0)) \n",
      "\n",
      "Opening './data/B5/LC09_L2SP_038037_20240530_20240531_02_T1_SR_B5.TIF'...\n",
      "POLYGON Z ((-1049369.80024257 3638104.40467505 0,-780328.515925999 3638104.40467505 0,-780328.515925999 3910626.31480119 0,-1049369.80024257 3910626.31480119 0,-1049369.80024257 3638104.40467505 0)) \n",
      "\n",
      "Opening './data/B5/LC09_L2SP_038038_20240530_20240531_02_T1_SR_B5.TIF'...\n",
      "POLYGON Z ((-1110048.42331854 3482246.64284285 0,-841272.745045105 3482246.64284285 0,-841272.745045105 3754544.00674236 0,-1110048.42331854 3754544.00674236 0,-1110048.42331854 3482246.64284285 0)) \n",
      "\n",
      "Opening './data/B5/LC09_L2SP_039038_20240521_20240523_02_T1_SR_B5.TIF'...\n",
      "POLYGON Z ((-1261353.45882181 3503066.19865259 0,-988292.42167342 3503066.19865259 0,-988292.42167342 3779412.75825657 0,-1261353.45882181 3779412.75825657 0,-1261353.45882181 3503066.19865259 0)) \n",
      "\n",
      "Opening './data/B5/LC09_L2SP_040034_20240512_20240513_02_T1_SR_B5.TIF'...\n",
      "POLYGON Z ((-1145501.92161888 4145020.81516128 0,-867607.698610336 4145020.81516128 0,-867607.698610336 4426062.06168047 0,-1145501.92161888 4426062.06168047 0,-1145501.92161888 4145020.81516128 0)) \n",
      "\n",
      "Opening './data/B5/LC09_L2SP_040035_20240512_20240513_02_T1_SR_B5.TIF'...\n",
      "POLYGON Z ((-1213185.76320028 3991314.41048983 0,-935356.138692209 3991314.41048983 0,-935356.138692209 4272328.16543485 0,-1213185.76320028 4272328.16543485 0,-1213185.76320028 3991314.41048983 0)) \n",
      "\n",
      "Opening './data/B5/LC09_L2SP_040036_20240512_20240513_02_T1_SR_B5.TIF'...\n",
      "POLYGON Z ((-1280653.5083819 3837167.60445673 0,-1002604.26272309 3837167.60445673 0,-1002604.26272309 4118190.26503398 0,-1280653.5083819 4118190.26503398 0,-1280653.5083819 3837167.60445673 0)) \n",
      "\n",
      "Opening './data/B5/LC09_L2SP_041037_20240620_20240621_02_T1_SR_B5.TIF'...\n",
      "POLYGON Z ((-1494688.17609758 3707088.8447135 0,-1212335.42043267 3707088.8447135 0,-1212335.42043267 3992463.10505526 0,-1494688.17609758 3992463.10505526 0,-1494688.17609758 3707088.8447135 0)) \n",
      "\n",
      "Opening './data/B5/LC09_L2SP_042033_20240510_20240511_02_T1_SR_B5.TIF'...\n",
      "POLYGON Z ((-1353044.32775658 4349055.76775349 0,-1065668.26115915 4349055.76775349 0,-1065668.26115915 4639321.22452922 0,-1353044.32775658 4639321.22452922 0,-1353044.32775658 4349055.76775349 0)) \n",
      "\n",
      "Opening './data/B5/LC09_L2SP_042034_20240526_20240527_02_T1_SR_B5.TIF'...\n",
      "POLYGON Z ((-1426318.22912445 4196642.59996282 0,-1138851.42252797 4196642.59996282 0,-1138851.42252797 4487033.28723511 0,-1426318.22912445 4487033.28723511 0,-1426318.22912445 4196642.59996282 0)) \n",
      "\n",
      "Opening './data/B5/LC09_L2SP_042035_20240510_20240511_02_T1_SR_B5.TIF'...\n",
      "POLYGON Z ((-1501007.5381977 4044130.89368116 0,-1213811.43539573 4044130.89368116 0,-1213811.43539573 4334286.4473025 0,-1501007.5381977 4334286.4473025 0,-1501007.5381977 4044130.89368116 0)) \n",
      "\n",
      "Opening './data/B5/LC09_L2SP_043033_20240517_20240518_02_T1_SR_B5.TIF'...\n",
      "POLYGON Z ((-1489789.06383358 4378125.28929909 0,-1197410.07789495 4378125.28929909 0,-1197410.07789495 4673100.11466023 0,-1489789.06383358 4673100.11466023 0,-1489789.06383358 4378125.28929909 0)) \n",
      "\n",
      "Opening './data/B5/LC09_L2SP_043034_20240517_20240518_02_T1_SR_B5.TIF'...\n",
      "POLYGON Z ((-1567400.17787891 4226107.17201287 0,-1274793.71263065 4226107.17201287 0,-1274793.71263065 4521577.21341927 0,-1567400.17787891 4521577.21341927 0,-1567400.17787891 4226107.17201287 0)) \n",
      "\n",
      "Opening './data/B5/LC09_L2SP_043035_20240618_20240619_02_T1_SR_B5.TIF'...\n",
      "POLYGON Z ((-1644234.23129406 4073618.55913005 0,-1351593.14110387 4073618.55913005 0,-1351593.14110387 4368948.8965813 0,-1644234.23129406 4368948.8965813 0,-1644234.23129406 4073618.55913005 0)) \n",
      "\n",
      "Opening './data/B5/LC09_L2SP_043036_20240618_20240619_02_T1_SR_B5.TIF'...\n",
      "POLYGON Z ((-1720808.31438659 3919801.54523428 0,-1428004.85027979 3919801.54523428 0,-1428004.85027979 4215572.3737965 0,-1720808.31438659 4215572.3737965 0,-1720808.31438659 3919801.54523428 0)) \n",
      "\n",
      "Opening './data/B5/LC09_L2SP_044034_20240609_20240612_02_T1_SR_B5.TIF'...\n",
      "POLYGON Z ((-1711146.19689551 4259003.0298179 0,-1413120.01441533 4259003.0298179 0,-1413120.01441533 4559681.08810503 0,-1711146.19689551 4559681.08810503 0,-1711146.19689551 4259003.0298179 0)) \n",
      "\n",
      "Opening './data/B5/LC09_L2SP_045031_20240515_20240516_02_T1_SR_B5.TIF'...\n",
      "POLYGON Z ((-1597539.29009628 4742922.49059871 0,-1294926.87569179 4742922.49059871 0,-1294926.87569179 5047632.94159002 0,-1597539.29009628 5047632.94159002 0,-1597539.29009628 4742922.49059871 0)) \n",
      "\n",
      "Opening './data/B5/LC09_L2SP_045032_20240515_20240516_02_T1_SR_B5.TIF'...\n",
      "POLYGON Z ((-1682663.08291226 4593996.92814412 0,-1379850.46772373 4593996.92814412 0,-1379850.46772373 4899376.37688097 0,-1682663.08291226 4899376.37688097 0,-1682663.08291226 4593996.92814412 0)) \n",
      "\n",
      "Opening './data/B5/LC09_L2SP_045033_20240531_20240601_02_T1_SR_B5.TIF'...\n",
      "POLYGON Z ((-1767871.00047889 4444319.3109401 0,-1464658.5637948 4444319.3109401 0,-1464658.5637948 4750144.61131555 0,-1767871.00047889 4750144.61131555 0,-1767871.00047889 4444319.3109401 0)) \n",
      "\n",
      "Opening './data/B5/LC09_L2SP_045034_20240531_20240601_02_T1_SR_B5.TIF'...\n",
      "POLYGON Z ((-1852221.59384783 4293694.69402293 0,-1548722.21672671 4293694.69402293 0,-1548722.21672671 4599630.94212163 0,-1852221.59384783 4599630.94212163 0,-1852221.59384783 4293694.69402293 0)) \n",
      "\n",
      "Opening './data/B5/LC09_L2SP_046031_20240522_20240524_02_T1_SR_B5.TIF'...\n",
      "POLYGON Z ((-1730104.15620155 4778721.09919903 0,-1421765.84606161 4778721.09919903 0,-1421765.84606161 5089161.54170665 0,-1730104.15620155 5089161.54170665 0,-1730104.15620155 4778721.09919903 0)) \n",
      "\n"
     ]
    }
   ],
   "source": [
    "# Loop through all .tiff files in the folder\n",
    "for filename in os.listdir(tif_folder):\n",
    "    if filename.endswith('.TIF'):\n",
    "        filepath = os.path.join(tif_folder, filename)\n",
    "        print(f\"Opening '{filepath}'...\")\n",
    "        with rasterio.open(filepath) as src:\n",
    "            src_crs = src.crs\n",
    "            minx, miny, maxx, maxy = reproject_bounds(src.bounds, src_crs, target_crs)\n",
    "            raster_box = create_ogr_geometry(minx, miny, maxx, maxy)\n",
    "            tiles.append(raster_box)\n",
    "            print(raster_box, \"\\n\")"
   ]
  },
  {
   "cell_type": "code",
   "execution_count": 7,
   "id": "01be98a2-8f55-4e9a-81ff-4e9c8caa4d05",
   "metadata": {},
   "outputs": [
    {
     "name": "stdout",
     "output_type": "stream",
     "text": [
      "Checking '<closed DatasetReader name='./data/B5/LC09_L2SP_046031_20240522_20240524_02_T1_SR_B5.TIF' mode='r'>'...\n",
      "\n",
      "Checking 'POLYGON Z ((-1730104.15620155 4778721.09919903 0,-1421765.84606161 4778721.09919903 0,-1421765.84606161 5089161.54170665 0,-1730104.15620155 5089161.54170665 0,-1730104.15620155 4778721.09919903 0))'...\n",
      "\n",
      "Checking '[<osgeo.ogr.Geometry; proxy of <Swig Object of type 'OGRGeometryShadow *' at 0x7f76fc0750b0> >, <osgeo.ogr.Geometry; proxy of <Swig Object of type 'OGRGeometryShadow *' at 0x7f74b97b3d80> >, <osgeo.ogr.Geometry; proxy of <Swig Object of type 'OGRGeometryShadow *' at 0x7f76fc0533c0> >, <osgeo.ogr.Geometry; proxy of <Swig Object of type 'OGRGeometryShadow *' at 0x7f74af01c2a0> >, <osgeo.ogr.Geometry; proxy of <Swig Object of type 'OGRGeometryShadow *' at 0x7f74af01cea0> >, <osgeo.ogr.Geometry; proxy of <Swig Object of type 'OGRGeometryShadow *' at 0x7f74af01cff0> >, <osgeo.ogr.Geometry; proxy of <Swig Object of type 'OGRGeometryShadow *' at 0x7f74af01ced0> >, <osgeo.ogr.Geometry; proxy of <Swig Object of type 'OGRGeometryShadow *' at 0x7f74af01ca50> >, <osgeo.ogr.Geometry; proxy of <Swig Object of type 'OGRGeometryShadow *' at 0x7f74af01d0e0> >, <osgeo.ogr.Geometry; proxy of <Swig Object of type 'OGRGeometryShadow *' at 0x7f74af01d1d0> >, <osgeo.ogr.Geometry; proxy of <Swig Object of type 'OGRGeometryShadow *' at 0x7f74af01d500> >, <osgeo.ogr.Geometry; proxy of <Swig Object of type 'OGRGeometryShadow *' at 0x7f74af01d2f0> >, <osgeo.ogr.Geometry; proxy of <Swig Object of type 'OGRGeometryShadow *' at 0x7f74af01d560> >, <osgeo.ogr.Geometry; proxy of <Swig Object of type 'OGRGeometryShadow *' at 0x7f74af01d620> >, <osgeo.ogr.Geometry; proxy of <Swig Object of type 'OGRGeometryShadow *' at 0x7f74af01d680> >, <osgeo.ogr.Geometry; proxy of <Swig Object of type 'OGRGeometryShadow *' at 0x7f74af01d470> >, <osgeo.ogr.Geometry; proxy of <Swig Object of type 'OGRGeometryShadow *' at 0x7f74af01d440> >, <osgeo.ogr.Geometry; proxy of <Swig Object of type 'OGRGeometryShadow *' at 0x7f74af01cf00> >, <osgeo.ogr.Geometry; proxy of <Swig Object of type 'OGRGeometryShadow *' at 0x7f74af01d9e0> >, <osgeo.ogr.Geometry; proxy of <Swig Object of type 'OGRGeometryShadow *' at 0x7f74af01d5f0> >, <osgeo.ogr.Geometry; proxy of <Swig Object of type 'OGRGeometryShadow *' at 0x7f74af01dad0> >, <osgeo.ogr.Geometry; proxy of <Swig Object of type 'OGRGeometryShadow *' at 0x7f74af01db60> >, <osgeo.ogr.Geometry; proxy of <Swig Object of type 'OGRGeometryShadow *' at 0x7f74af01dc80> >, <osgeo.ogr.Geometry; proxy of <Swig Object of type 'OGRGeometryShadow *' at 0x7f74af01dbf0> >, <osgeo.ogr.Geometry; proxy of <Swig Object of type 'OGRGeometryShadow *' at 0x7f74af01d050> >, <osgeo.ogr.Geometry; proxy of <Swig Object of type 'OGRGeometryShadow *' at 0x7f74af01db30> >, <osgeo.ogr.Geometry; proxy of <Swig Object of type 'OGRGeometryShadow *' at 0x7f74af01de90> >, <osgeo.ogr.Geometry; proxy of <Swig Object of type 'OGRGeometryShadow *' at 0x7f74af01db00> >, <osgeo.ogr.Geometry; proxy of <Swig Object of type 'OGRGeometryShadow *' at 0x7f74af01da70> >, <osgeo.ogr.Geometry; proxy of <Swig Object of type 'OGRGeometryShadow *' at 0x7f74af01dfe0> >, <osgeo.ogr.Geometry; proxy of <Swig Object of type 'OGRGeometryShadow *' at 0x7f74af01dd70> >, <osgeo.ogr.Geometry; proxy of <Swig Object of type 'OGRGeometryShadow *' at 0x7f74af01da40> >, <osgeo.ogr.Geometry; proxy of <Swig Object of type 'OGRGeometryShadow *' at 0x7f74af01e310> >, <osgeo.ogr.Geometry; proxy of <Swig Object of type 'OGRGeometryShadow *' at 0x7f74af01e1c0> >]'...\n",
      "\n"
     ]
    }
   ],
   "source": [
    "#plot crs and bounding box on top\n",
    "print(f\"Checking '{src}'...\")\n",
    "print(\"\")\n",
    "print(f\"Checking '{raster_box}'...\")\n",
    "print(\"\")\n",
    "print(f\"Checking '{tiles}'...\")\n",
    "print(\"\")"
   ]
  },
  {
   "cell_type": "code",
   "execution_count": 8,
   "id": "e16dcf62-04e6-4e1c-b846-e2f42c704693",
   "metadata": {},
   "outputs": [],
   "source": [
    "# Function to check for intersection between bounding boxes\n",
    "def check_intersection(bbox, tile_geom):\n",
    "    minx, miny, maxx, maxy = bbox.minx, bbox.miny, bbox.maxx, bbox.maxy\n",
    "    bbox_geom = create_ogr_geometry(minx, miny, maxx, maxy)\n",
    "    return bbox_geom.Intersects(tile_geom)\n",
    "\n",
    "# List to store intersecting bounding boxes\n",
    "intersections = []"
   ]
  },
  {
   "cell_type": "code",
   "execution_count": 9,
   "id": "ca4f58d1-c60f-484b-8c05-e858a26066d0",
   "metadata": {},
   "outputs": [],
   "source": [
    "for bbox in bounding_boxes.itertuples():\n",
    "    for tile_bbox in tiles:\n",
    "        if check_intersection(bbox, tile_bbox):\n",
    "            intersections.append(bbox)\n"
   ]
  },
  {
   "cell_type": "code",
   "execution_count": 10,
   "id": "ca7fb724-3d71-4e04-b5e0-09f3a1354579",
   "metadata": {},
   "outputs": [
    {
     "name": "stdout",
     "output_type": "stream",
     "text": [
      "Checking 'Pandas(Index=6838, minx=-13589927.8525, miny=4611654.1394, maxx=-13585580.0669, maxy=4614081.9809)'...\n",
      "\n",
      "Checking '[]'...\n",
      "\n"
     ]
    }
   ],
   "source": [
    "print(f\"Checking '{bbox}'...\")\n",
    "print(\"\")\n",
    "print(f\"Checking '{intersections}'...\")\n",
    "print(\"\")"
   ]
  },
  {
   "cell_type": "code",
   "execution_count": 11,
   "id": "318a8fa5-0a41-4211-86af-915737359834",
   "metadata": {},
   "outputs": [],
   "source": [
    "# Write the intersecting bounding boxes to a file\n",
    "output_file = 'intersecting_bounding_boxes.csv'\n",
    "with open(output_file, 'w') as f:\n",
    "    #instead of a for loop just write out intersections\n",
    "    for bbox in intersections:\n",
    "        f.write(f'{bbox},\\n')"
   ]
  },
  {
   "cell_type": "markdown",
   "id": "c02a2692-04ee-4ea6-a5db-8fe1cd39846a",
   "metadata": {},
   "source": [
    "I am not sure which one of these works better since I can not test the yet since there are no intersections ^v"
   ]
  },
  {
   "cell_type": "code",
   "execution_count": null,
   "id": "ef64a3de-5dfa-403a-8d8b-c8cf8db9cc89",
   "metadata": {},
   "outputs": [],
   "source": [
    "# Write the intersecting bounding boxes to a CSV file\n",
    "output_file = 'intersecting_bounding_boxes.csv'\n",
    "with open(output_file, 'w', newline='') as csvfile:\n",
    "    csvwriter = csv.writer(csvfile)\n",
    "    csvwriter.writerow(['minx', 'miny', 'maxx', 'maxy'])\n",
    "    for bbox in intersections:\n",
    "        csvwriter.writerow([bbox.minx, bbox.miny, bbox.maxx, bbox.maxy])"
   ]
  },
  {
   "cell_type": "code",
   "execution_count": null,
   "id": "e9e52741-01d7-443c-a539-6f23c80b259a",
   "metadata": {},
   "outputs": [],
   "source": []
  }
 ],
 "metadata": {
  "kernelspec": {
   "display_name": "wired-utility",
   "language": "python",
   "name": "wired-utility"
  },
  "language_info": {
   "codemirror_mode": {
    "name": "ipython",
    "version": 3
   },
   "file_extension": ".py",
   "mimetype": "text/x-python",
   "name": "python",
   "nbconvert_exporter": "python",
   "pygments_lexer": "ipython3",
   "version": "3.12.3"
  }
 },
 "nbformat": 4,
 "nbformat_minor": 5
}
