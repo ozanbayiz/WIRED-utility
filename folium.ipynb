{
 "cells": [
  {
   "cell_type": "code",
   "execution_count": 1,
   "id": "7438dfe7-bf95-4cb5-a8fb-79a34dd01c70",
   "metadata": {
    "scrolled": true
   },
   "outputs": [],
   "source": [
    "import numpy as np\n",
    "import geopandas as gpd\n",
    "\n",
    "import rasterio\n",
    "from rasterio.features import rasterize\n",
    "from rasterio.plot import reshape_as_image\n",
    "\n",
    "import folium\n",
    "from folium.plugins import HeatMap\n",
    "from folium.raster_layers import WmsTileLayer, ImageOverlay\n",
    "\n",
    "import matplotlib.pyplot as plt\n",
    "from PIL import Image\n",
    "import tempfile\n",
    "\n",
    "from tqdm import tqdm\n",
    "from utils import vector_to_heatmap_overlay"
   ]
  },
  {
   "cell_type": "code",
   "execution_count": 3,
   "id": "0504bd6a-c06b-4587-8663-efb0f744739f",
   "metadata": {},
   "outputs": [],
   "source": [
    "GEOSERVER_URL = \"https://sparcal.sdsc.edu/geoserver/rrk_sn/wms?\"\n",
    "\n",
    "# directory information for local data\n",
    "DATA_DIR = \"data/\"\n",
    "UTILS_DIR = \"utils/\"\n",
    "SN_DIR = DATA_DIR + \"sierra_nevada/\"\n",
    "\n",
    "IGNITION_PATH = SN_DIR + \"sierra_nevada_fire_ignitions.geojson\"\n",
    "PERIMETER_PATH = SN_DIR + \"sierra_nevada_fire_perimeters.geojson\"\n",
    "UTILITY_PATH = SN_DIR + \"sierra_nevada_utility_lines.geojson\"\n",
    "\n",
    "SN_SHAPE_PATH = UTILS_DIR + \"sierra_nevada_boundary.geojson\"\n",
    "SN_SHAPE = gpd.read_file(SN_SHAPE_PATH).to_crs(epsg=4326).loc[0, 'geometry']"
   ]
  },
  {
   "cell_type": "markdown",
   "id": "fd42a29d",
   "metadata": {},
   "source": [
    "# Fire/Utility Data\n"
   ]
  },
  {
   "cell_type": "code",
   "execution_count": 6,
   "id": "db605635-b7bd-4334-83c6-366a0f8984c3",
   "metadata": {},
   "outputs": [
    {
     "name": "stderr",
     "output_type": "stream",
     "text": [
      "/opt/anaconda3/envs/wired-utility/lib/python3.12/site-packages/geopandas/io/file.py:399: FutureWarning: errors='ignore' is deprecated and will raise in a future version. Use to_datetime without passing `errors` and catch exceptions explicitly instead\n",
      "  as_dt = pd.to_datetime(df[k], errors=\"ignore\")\n"
     ]
    }
   ],
   "source": [
    "ignition_df = gpd.read_file(IGNITION_PATH).to_crs(epsg=4326)\n",
    "perimeter_df = gpd.read_file(PERIMETER_PATH).to_crs(epsg=4326)\n",
    "utility_df = gpd.read_file(UTILITY_PATH).to_crs(epsg=4326)\n",
    "buffered_ignition = gpd.read_file(IGNITION_PATH).buffer(500).to_crs(epsg=4326)"
   ]
  },
  {
   "cell_type": "code",
   "execution_count": 39,
   "id": "5dd36ab4",
   "metadata": {},
   "outputs": [
    {
     "name": "stderr",
     "output_type": "stream",
     "text": [
      " 21%|██        | 11/52 [00:01<00:05,  8.14it/s]"
     ]
    }
   ],
   "source": [
    "# utility lines\n",
    "utility_layer = folium.GeoJson(utility_df, name=\"Transmission Lines\")\n",
    "\n",
    "# Folium Heatmap (unused but here's the code)\n",
    "\"\"\"\n",
    "ignition_df['LATITUDE'] = ignition_df.geometry.y\n",
    "ignition_df['LONGITUDE'] = ignition_df.geometry.x\n",
    "ignition_coords = ignition_df[['LATITUDE', 'LONGITUDE']].values.tolist()\n",
    "ignition_heatmap_layer = HeatMap(ignition_coords, name=\"Ignition Points\")\n",
    "\"\"\"\n",
    "\n",
    "# Heatmaps with Vector To Heatmap Overlay Function\n",
    "perimeter_heatmap = vector_to_heatmap_overlay(perimeter_df['geometry'], \"Fire Perimeters\", SN_SHAPE)\n",
    "#ignition_heatmap = vector_to_heatmap_overlay(buffered_ignition, \"Fire Ignition Points\", SN_SHAPE)\n",
    "\n",
    "# save all to list\n",
    "fire_utility_layers = [utility_layer, perimeter_heatmap]"
   ]
  },
  {
   "cell_type": "markdown",
   "id": "2f93b90f",
   "metadata": {},
   "source": [
    "# Geoserver Layers\n",
    "RRK link: https://rrk.sdsc.edu/sierra.html\n",
    "\n",
    "Geoserver Link: https://sparcal.sdsc.edu/geoserver/web/wicket/bookmarkable/org.geoserver.web.demo.MapPreviewPage?0&filter=false"
   ]
  },
  {
   "cell_type": "code",
   "execution_count": 8,
   "id": "10f58f52",
   "metadata": {},
   "outputs": [],
   "source": [
    "carbon_layers = []\n",
    "carbon_layer_info = {'Dead Carbon':'rrk_sn:DeadCarbon_2021',\n",
    "                     'Total Carbon':'rrk_sn:CECS_TotalCarbon_30m',\n",
    "                     'Aboveground Live Tree Carbon':'rrk_sn:F3_AbovegroundLiveTreeCarbon_2021',\n",
    "                     'Total Aboveground Carbon':'rrk_sn:CECS_TotalCarbon_30m'}\n",
    "for layer_name in carbon_layer_info:\n",
    "    layer = WmsTileLayer(url=GEOSERVER_URL,\n",
    "                         layers=carbon_layer_info[layer_name],\n",
    "                         name=layer_name,\n",
    "                         transparent=True,\n",
    "                         overlay=True,\n",
    "                         control=True,\n",
    "                         fmt=\"image/png8\",\n",
    "                         tiled=True,\n",
    "                         opacity=0.5)\n",
    "    carbon_layers.append(layer)"
   ]
  },
  {
   "cell_type": "markdown",
   "id": "5d38b969",
   "metadata": {},
   "source": [
    "# The Map"
   ]
  },
  {
   "cell_type": "code",
   "execution_count": 32,
   "id": "61089a47-377f-4307-90f1-fd406bbf6113",
   "metadata": {},
   "outputs": [
    {
     "data": {
      "text/plain": [
       "<folium.map.LayerControl at 0x140a51a90>"
      ]
     },
     "execution_count": 32,
     "metadata": {},
     "output_type": "execute_result"
    }
   ],
   "source": [
    "center = SN_SHAPE.centroid\n",
    "map_center = [center.y, center.x]\n",
    "m = folium.Map(location=map_center, zoom_start=8, tiles='Stamon Toner', attr=\"toner-bcg\")\n",
    "layers = carbon_layers + fire_utility_layers\n",
    "for layer in layers:\n",
    "    layer.add_to(m)\n",
    "folium.LayerControl().add_to(m)\n"
   ]
  },
  {
   "cell_type": "markdown",
   "id": "047e613c",
   "metadata": {},
   "source": [
    "# I'm Experimenting here:"
   ]
  },
  {
   "cell_type": "code",
   "execution_count": 38,
   "id": "b25be2ff",
   "metadata": {},
   "outputs": [],
   "source": [
    "METERS_PER_DEG_LAT = 11111.11 * 5\n",
    "METERS_PER_DEG_LON = 11139 * 5\n",
    "\n",
    "def vector_to_heatmap_overlay(geoms, layer_name, aoi_geom=SN_SHAPE, cmap_name='hot', pixel_size=30):\n",
    "    ##TODO: adjust sampling resolution\n",
    "    minx, miny, maxx, maxy = aoi_geom.bounds\n",
    "    width_raw = maxx - minx\n",
    "    height_raw = maxy - miny\n",
    "    width_adj = int(width_raw * METERS_PER_DEG_LAT / pixel_size)\n",
    "    height_adj = int(height_raw * METERS_PER_DEG_LON / pixel_size)\n",
    "    trans = rasterio.transform.from_bounds(minx, miny, maxx, maxy, width_adj, height_adj)\n",
    "    data = np.zeros((height_adj, width_adj))\n",
    "    # get overlaps\n",
    "    for geom in tqdm(geoms):\n",
    "        rasterized_geom = rasterize(shapes=[(geom, 1)], fill=0, transform=trans, out_shape=(height_adj, width_adj), all_touched=True)\n",
    "        data += rasterized_geom\n",
    "    # create image\n",
    "    cmap = plt.get_cmap(cmap_name)\n",
    "    norm = plt.Normalize(vmin=data.min(), vmax=data.max())\n",
    "    image_data = cmap(norm(data))\n",
    "    alpha_channel = np.where(data > 0, 255, 0)\n",
    "    rgba_image_data = np.dstack((image_data[:, :, :3] * 255, alpha_channel)).astype(np.uint8)\n",
    "    image = Image.fromarray(rgba_image_data, 'RGBA')\n",
    "    with tempfile.NamedTemporaryFile(delete=False, suffix='.png') as tmp_file:\n",
    "        image.save(tmp_file.name, format='PNG')\n",
    "        tmp_file_path = tmp_file.name\n",
    "    # create layer\n",
    "    img_overlay = ImageOverlay(\n",
    "        name=layer_name,\n",
    "        image=tmp_file_path,\n",
    "        bounds=[[miny, minx], [maxy, maxx]],\n",
    "        opacity=0.6,\n",
    "        transparent=True,\n",
    "        overlay=True,\n",
    "        control=True,\n",
    "        fmt=\"image/png8\",\n",
    "        tiled=True,\n",
    "    )\n",
    "    return img_overlay"
   ]
  }
 ],
 "metadata": {
  "kernelspec": {
   "display_name": "wired-utility",
   "language": "python",
   "name": "python3"
  },
  "language_info": {
   "codemirror_mode": {
    "name": "ipython",
    "version": 3
   },
   "file_extension": ".py",
   "mimetype": "text/x-python",
   "name": "python",
   "nbconvert_exporter": "python",
   "pygments_lexer": "ipython3",
   "version": "3.12.3"
  }
 },
 "nbformat": 4,
 "nbformat_minor": 5
}
